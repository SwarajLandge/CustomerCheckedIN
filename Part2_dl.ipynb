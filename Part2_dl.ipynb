{
  "cells": [
    {
      "cell_type": "code",
      "execution_count": null,
      "metadata": {
        "id": "AvTtC1x5yVb_"
      },
      "outputs": [],
      "source": [
        "import pandas as pd\n",
        "import numpy as np\n",
        "import os\n",
        "import keras"
      ]
    },
    {
      "cell_type": "code",
      "execution_count": null,
      "metadata": {
        "colab": {
          "base_uri": "https://localhost:8080/",
          "height": 317
        },
        "id": "vodtFWPyyVcD",
        "outputId": "0dae8321-9010-4e6e-8090-c5726c0a7153"
      },
      "outputs": [
        {
          "output_type": "execute_result",
          "data": {
            "text/plain": [
              "   Nationality   Age  DaysSinceCreation  AverageLeadTime  BookingsCanceled  \\\n",
              "0         7612  51.0                150               45                 1   \n",
              "2        10034  31.0               1095                0                 0   \n",
              "3        12293  60.0               1095               93                 0   \n",
              "4        12293  51.0               1095                0                 0   \n",
              "5          253  54.0               1095               58                 0   \n",
              "\n",
              "   BookingsNoShowed  BookingsCheckedIn  PersonsNights  RoomNights  \\\n",
              "0                 0                  3              8           5   \n",
              "2                 0                  0              0           0   \n",
              "3                 0                  1             10           5   \n",
              "4                 0                  0              0           0   \n",
              "5                 0                  1              4           2   \n",
              "\n",
              "   DaysSinceLastStay  ...  Age_exponential  DistributionChannel_Direct  \\\n",
              "0                151  ...        26.483486                           0   \n",
              "2                 -1  ...        17.490467                           0   \n",
              "3               1100  ...        30.324434                           0   \n",
              "4                 -1  ...        26.483486                           0   \n",
              "5               1097  ...        27.775473                           0   \n",
              "\n",
              "   DistributionChannel_Electronic Distribution  \\\n",
              "0                                            0   \n",
              "2                                            0   \n",
              "3                                            0   \n",
              "4                                            0   \n",
              "5                                            0   \n",
              "\n",
              "   DistributionChannel_Travel Agent/Operator  MarketSegment_Complementary  \\\n",
              "0                                          0                            0   \n",
              "2                                          1                            0   \n",
              "3                                          1                            0   \n",
              "4                                          1                            0   \n",
              "5                                          1                            0   \n",
              "\n",
              "   MarketSegment_Corporate  MarketSegment_Direct  MarketSegment_Groups  \\\n",
              "0                        1                     0                     0   \n",
              "2                        0                     0                     0   \n",
              "3                        0                     0                     0   \n",
              "4                        0                     0                     0   \n",
              "5                        0                     0                     0   \n",
              "\n",
              "   MarketSegment_Other  MarketSegment_Travel Agent/Operator  \n",
              "0                    0                                    0  \n",
              "2                    0                                    1  \n",
              "3                    0                                    1  \n",
              "4                    0                                    1  \n",
              "5                    1                                    0  \n",
              "\n",
              "[5 rows x 38 columns]"
            ],
            "text/html": [
              "\n",
              "  <div id=\"df-07649814-1838-4db9-a856-c3f7e506ceb8\">\n",
              "    <div class=\"colab-df-container\">\n",
              "      <div>\n",
              "<style scoped>\n",
              "    .dataframe tbody tr th:only-of-type {\n",
              "        vertical-align: middle;\n",
              "    }\n",
              "\n",
              "    .dataframe tbody tr th {\n",
              "        vertical-align: top;\n",
              "    }\n",
              "\n",
              "    .dataframe thead th {\n",
              "        text-align: right;\n",
              "    }\n",
              "</style>\n",
              "<table border=\"1\" class=\"dataframe\">\n",
              "  <thead>\n",
              "    <tr style=\"text-align: right;\">\n",
              "      <th></th>\n",
              "      <th>Nationality</th>\n",
              "      <th>Age</th>\n",
              "      <th>DaysSinceCreation</th>\n",
              "      <th>AverageLeadTime</th>\n",
              "      <th>BookingsCanceled</th>\n",
              "      <th>BookingsNoShowed</th>\n",
              "      <th>BookingsCheckedIn</th>\n",
              "      <th>PersonsNights</th>\n",
              "      <th>RoomNights</th>\n",
              "      <th>DaysSinceLastStay</th>\n",
              "      <th>...</th>\n",
              "      <th>Age_exponential</th>\n",
              "      <th>DistributionChannel_Direct</th>\n",
              "      <th>DistributionChannel_Electronic Distribution</th>\n",
              "      <th>DistributionChannel_Travel Agent/Operator</th>\n",
              "      <th>MarketSegment_Complementary</th>\n",
              "      <th>MarketSegment_Corporate</th>\n",
              "      <th>MarketSegment_Direct</th>\n",
              "      <th>MarketSegment_Groups</th>\n",
              "      <th>MarketSegment_Other</th>\n",
              "      <th>MarketSegment_Travel Agent/Operator</th>\n",
              "    </tr>\n",
              "  </thead>\n",
              "  <tbody>\n",
              "    <tr>\n",
              "      <th>0</th>\n",
              "      <td>7612</td>\n",
              "      <td>51.0</td>\n",
              "      <td>150</td>\n",
              "      <td>45</td>\n",
              "      <td>1</td>\n",
              "      <td>0</td>\n",
              "      <td>3</td>\n",
              "      <td>8</td>\n",
              "      <td>5</td>\n",
              "      <td>151</td>\n",
              "      <td>...</td>\n",
              "      <td>26.483486</td>\n",
              "      <td>0</td>\n",
              "      <td>0</td>\n",
              "      <td>0</td>\n",
              "      <td>0</td>\n",
              "      <td>1</td>\n",
              "      <td>0</td>\n",
              "      <td>0</td>\n",
              "      <td>0</td>\n",
              "      <td>0</td>\n",
              "    </tr>\n",
              "    <tr>\n",
              "      <th>2</th>\n",
              "      <td>10034</td>\n",
              "      <td>31.0</td>\n",
              "      <td>1095</td>\n",
              "      <td>0</td>\n",
              "      <td>0</td>\n",
              "      <td>0</td>\n",
              "      <td>0</td>\n",
              "      <td>0</td>\n",
              "      <td>0</td>\n",
              "      <td>-1</td>\n",
              "      <td>...</td>\n",
              "      <td>17.490467</td>\n",
              "      <td>0</td>\n",
              "      <td>0</td>\n",
              "      <td>1</td>\n",
              "      <td>0</td>\n",
              "      <td>0</td>\n",
              "      <td>0</td>\n",
              "      <td>0</td>\n",
              "      <td>0</td>\n",
              "      <td>1</td>\n",
              "    </tr>\n",
              "    <tr>\n",
              "      <th>3</th>\n",
              "      <td>12293</td>\n",
              "      <td>60.0</td>\n",
              "      <td>1095</td>\n",
              "      <td>93</td>\n",
              "      <td>0</td>\n",
              "      <td>0</td>\n",
              "      <td>1</td>\n",
              "      <td>10</td>\n",
              "      <td>5</td>\n",
              "      <td>1100</td>\n",
              "      <td>...</td>\n",
              "      <td>30.324434</td>\n",
              "      <td>0</td>\n",
              "      <td>0</td>\n",
              "      <td>1</td>\n",
              "      <td>0</td>\n",
              "      <td>0</td>\n",
              "      <td>0</td>\n",
              "      <td>0</td>\n",
              "      <td>0</td>\n",
              "      <td>1</td>\n",
              "    </tr>\n",
              "    <tr>\n",
              "      <th>4</th>\n",
              "      <td>12293</td>\n",
              "      <td>51.0</td>\n",
              "      <td>1095</td>\n",
              "      <td>0</td>\n",
              "      <td>0</td>\n",
              "      <td>0</td>\n",
              "      <td>0</td>\n",
              "      <td>0</td>\n",
              "      <td>0</td>\n",
              "      <td>-1</td>\n",
              "      <td>...</td>\n",
              "      <td>26.483486</td>\n",
              "      <td>0</td>\n",
              "      <td>0</td>\n",
              "      <td>1</td>\n",
              "      <td>0</td>\n",
              "      <td>0</td>\n",
              "      <td>0</td>\n",
              "      <td>0</td>\n",
              "      <td>0</td>\n",
              "      <td>1</td>\n",
              "    </tr>\n",
              "    <tr>\n",
              "      <th>5</th>\n",
              "      <td>253</td>\n",
              "      <td>54.0</td>\n",
              "      <td>1095</td>\n",
              "      <td>58</td>\n",
              "      <td>0</td>\n",
              "      <td>0</td>\n",
              "      <td>1</td>\n",
              "      <td>4</td>\n",
              "      <td>2</td>\n",
              "      <td>1097</td>\n",
              "      <td>...</td>\n",
              "      <td>27.775473</td>\n",
              "      <td>0</td>\n",
              "      <td>0</td>\n",
              "      <td>1</td>\n",
              "      <td>0</td>\n",
              "      <td>0</td>\n",
              "      <td>0</td>\n",
              "      <td>0</td>\n",
              "      <td>1</td>\n",
              "      <td>0</td>\n",
              "    </tr>\n",
              "  </tbody>\n",
              "</table>\n",
              "<p>5 rows × 38 columns</p>\n",
              "</div>\n",
              "      <button class=\"colab-df-convert\" onclick=\"convertToInteractive('df-07649814-1838-4db9-a856-c3f7e506ceb8')\"\n",
              "              title=\"Convert this dataframe to an interactive table.\"\n",
              "              style=\"display:none;\">\n",
              "        \n",
              "  <svg xmlns=\"http://www.w3.org/2000/svg\" height=\"24px\"viewBox=\"0 0 24 24\"\n",
              "       width=\"24px\">\n",
              "    <path d=\"M0 0h24v24H0V0z\" fill=\"none\"/>\n",
              "    <path d=\"M18.56 5.44l.94 2.06.94-2.06 2.06-.94-2.06-.94-.94-2.06-.94 2.06-2.06.94zm-11 1L8.5 8.5l.94-2.06 2.06-.94-2.06-.94L8.5 2.5l-.94 2.06-2.06.94zm10 10l.94 2.06.94-2.06 2.06-.94-2.06-.94-.94-2.06-.94 2.06-2.06.94z\"/><path d=\"M17.41 7.96l-1.37-1.37c-.4-.4-.92-.59-1.43-.59-.52 0-1.04.2-1.43.59L10.3 9.45l-7.72 7.72c-.78.78-.78 2.05 0 2.83L4 21.41c.39.39.9.59 1.41.59.51 0 1.02-.2 1.41-.59l7.78-7.78 2.81-2.81c.8-.78.8-2.07 0-2.86zM5.41 20L4 18.59l7.72-7.72 1.47 1.35L5.41 20z\"/>\n",
              "  </svg>\n",
              "      </button>\n",
              "      \n",
              "  <style>\n",
              "    .colab-df-container {\n",
              "      display:flex;\n",
              "      flex-wrap:wrap;\n",
              "      gap: 12px;\n",
              "    }\n",
              "\n",
              "    .colab-df-convert {\n",
              "      background-color: #E8F0FE;\n",
              "      border: none;\n",
              "      border-radius: 50%;\n",
              "      cursor: pointer;\n",
              "      display: none;\n",
              "      fill: #1967D2;\n",
              "      height: 32px;\n",
              "      padding: 0 0 0 0;\n",
              "      width: 32px;\n",
              "    }\n",
              "\n",
              "    .colab-df-convert:hover {\n",
              "      background-color: #E2EBFA;\n",
              "      box-shadow: 0px 1px 2px rgba(60, 64, 67, 0.3), 0px 1px 3px 1px rgba(60, 64, 67, 0.15);\n",
              "      fill: #174EA6;\n",
              "    }\n",
              "\n",
              "    [theme=dark] .colab-df-convert {\n",
              "      background-color: #3B4455;\n",
              "      fill: #D2E3FC;\n",
              "    }\n",
              "\n",
              "    [theme=dark] .colab-df-convert:hover {\n",
              "      background-color: #434B5C;\n",
              "      box-shadow: 0px 1px 3px 1px rgba(0, 0, 0, 0.15);\n",
              "      filter: drop-shadow(0px 1px 2px rgba(0, 0, 0, 0.3));\n",
              "      fill: #FFFFFF;\n",
              "    }\n",
              "  </style>\n",
              "\n",
              "      <script>\n",
              "        const buttonEl =\n",
              "          document.querySelector('#df-07649814-1838-4db9-a856-c3f7e506ceb8 button.colab-df-convert');\n",
              "        buttonEl.style.display =\n",
              "          google.colab.kernel.accessAllowed ? 'block' : 'none';\n",
              "\n",
              "        async function convertToInteractive(key) {\n",
              "          const element = document.querySelector('#df-07649814-1838-4db9-a856-c3f7e506ceb8');\n",
              "          const dataTable =\n",
              "            await google.colab.kernel.invokeFunction('convertToInteractive',\n",
              "                                                     [key], {});\n",
              "          if (!dataTable) return;\n",
              "\n",
              "          const docLinkHtml = 'Like what you see? Visit the ' +\n",
              "            '<a target=\"_blank\" href=https://colab.research.google.com/notebooks/data_table.ipynb>data table notebook</a>'\n",
              "            + ' to learn more about interactive tables.';\n",
              "          element.innerHTML = '';\n",
              "          dataTable['output_type'] = 'display_data';\n",
              "          await google.colab.output.renderOutput(dataTable, element);\n",
              "          const docLink = document.createElement('div');\n",
              "          docLink.innerHTML = docLinkHtml;\n",
              "          element.appendChild(docLink);\n",
              "        }\n",
              "      </script>\n",
              "    </div>\n",
              "  </div>\n",
              "  "
            ]
          },
          "metadata": {},
          "execution_count": 2
        }
      ],
      "source": [
        "combined = pd.read_csv(\"part_1_cleanusingcountencoding.csv\", index_col=0)\n",
        "combined.head()"
      ]
    },
    {
      "cell_type": "code",
      "execution_count": null,
      "metadata": {
        "colab": {
          "base_uri": "https://localhost:8080/"
        },
        "id": "ihXXDERwyVcF",
        "outputId": "de86011c-26b4-4a89-b372-5fa094e6c7e1"
      },
      "outputs": [
        {
          "output_type": "execute_result",
          "data": {
            "text/plain": [
              "(78473, 38)"
            ]
          },
          "metadata": {},
          "execution_count": 3
        }
      ],
      "source": [
        "combined.shape"
      ]
    },
    {
      "cell_type": "code",
      "execution_count": null,
      "metadata": {
        "colab": {
          "base_uri": "https://localhost:8080/"
        },
        "id": "Bv-WdKzKyVcF",
        "outputId": "55c27c6b-3daf-40b4-c7c0-83239b46e88a"
      },
      "outputs": [
        {
          "output_type": "stream",
          "name": "stdout",
          "text": [
            "<class 'pandas.core.frame.DataFrame'>\n",
            "Int64Index: 78473 entries, 0 to 82579\n",
            "Data columns (total 38 columns):\n",
            " #   Column                                       Non-Null Count  Dtype  \n",
            "---  ------                                       --------------  -----  \n",
            " 0   Nationality                                  78473 non-null  int64  \n",
            " 1   Age                                          78473 non-null  float64\n",
            " 2   DaysSinceCreation                            78473 non-null  int64  \n",
            " 3   AverageLeadTime                              78473 non-null  int64  \n",
            " 4   BookingsCanceled                             78473 non-null  int64  \n",
            " 5   BookingsNoShowed                             78473 non-null  int64  \n",
            " 6   BookingsCheckedIn                            78473 non-null  int64  \n",
            " 7   PersonsNights                                78473 non-null  int64  \n",
            " 8   RoomNights                                   78473 non-null  int64  \n",
            " 9   DaysSinceLastStay                            78473 non-null  int64  \n",
            " 10  DaysSinceFirstStay                           78473 non-null  int64  \n",
            " 11  SRHighFloor                                  78473 non-null  int64  \n",
            " 12  SRLowFloor                                   78473 non-null  int64  \n",
            " 13  SRAccessibleRoom                             78473 non-null  int64  \n",
            " 14  SRMediumFloor                                78473 non-null  int64  \n",
            " 15  SRBathtub                                    78473 non-null  int64  \n",
            " 16  SRShower                                     78473 non-null  int64  \n",
            " 17  SRCrib                                       78473 non-null  int64  \n",
            " 18  SRKingSizeBed                                78473 non-null  int64  \n",
            " 19  SRTwinBed                                    78473 non-null  int64  \n",
            " 20  SRNearElevator                               78473 non-null  int64  \n",
            " 21  SRAwayFromElevator                           78473 non-null  int64  \n",
            " 22  SRNoAlcoholInMiniBar                         78473 non-null  int64  \n",
            " 23  SRQuietRoom                                  78473 non-null  int64  \n",
            " 24  TotalRevenue                                 78473 non-null  float64\n",
            " 25  Age_log                                      78473 non-null  float64\n",
            " 26  Age_reciprocal                               78473 non-null  float64\n",
            " 27  Age_sqaure                                   78473 non-null  float64\n",
            " 28  Age_exponential                              78473 non-null  float64\n",
            " 29  DistributionChannel_Direct                   78473 non-null  int64  \n",
            " 30  DistributionChannel_Electronic Distribution  78473 non-null  int64  \n",
            " 31  DistributionChannel_Travel Agent/Operator    78473 non-null  int64  \n",
            " 32  MarketSegment_Complementary                  78473 non-null  int64  \n",
            " 33  MarketSegment_Corporate                      78473 non-null  int64  \n",
            " 34  MarketSegment_Direct                         78473 non-null  int64  \n",
            " 35  MarketSegment_Groups                         78473 non-null  int64  \n",
            " 36  MarketSegment_Other                          78473 non-null  int64  \n",
            " 37  MarketSegment_Travel Agent/Operator          78473 non-null  int64  \n",
            "dtypes: float64(6), int64(32)\n",
            "memory usage: 23.3 MB\n"
          ]
        }
      ],
      "source": [
        "combined.info()"
      ]
    },
    {
      "cell_type": "code",
      "source": [
        "combined.drop(['Age_log','Age_reciprocal', 'Age_sqaure', 'Age_exponential'],axis=1,inplace=True)"
      ],
      "metadata": {
        "id": "vDWRwog7Tx3y"
      },
      "execution_count": null,
      "outputs": []
    },
    {
      "cell_type": "code",
      "execution_count": null,
      "metadata": {
        "colab": {
          "base_uri": "https://localhost:8080/"
        },
        "id": "Gwik3sldyVcG",
        "outputId": "2150b82a-5893-4b84-bf4b-b48b31c97a61"
      },
      "outputs": [
        {
          "output_type": "execute_result",
          "data": {
            "text/plain": [
              "Nationality                                    0\n",
              "Age                                            0\n",
              "DaysSinceCreation                              0\n",
              "AverageLeadTime                                0\n",
              "BookingsCanceled                               0\n",
              "BookingsNoShowed                               0\n",
              "BookingsCheckedIn                              0\n",
              "PersonsNights                                  0\n",
              "RoomNights                                     0\n",
              "DaysSinceLastStay                              0\n",
              "DaysSinceFirstStay                             0\n",
              "SRHighFloor                                    0\n",
              "SRLowFloor                                     0\n",
              "SRAccessibleRoom                               0\n",
              "SRMediumFloor                                  0\n",
              "SRBathtub                                      0\n",
              "SRShower                                       0\n",
              "SRCrib                                         0\n",
              "SRKingSizeBed                                  0\n",
              "SRTwinBed                                      0\n",
              "SRNearElevator                                 0\n",
              "SRAwayFromElevator                             0\n",
              "SRNoAlcoholInMiniBar                           0\n",
              "SRQuietRoom                                    0\n",
              "TotalRevenue                                   0\n",
              "DistributionChannel_Direct                     0\n",
              "DistributionChannel_Electronic Distribution    0\n",
              "DistributionChannel_Travel Agent/Operator      0\n",
              "MarketSegment_Complementary                    0\n",
              "MarketSegment_Corporate                        0\n",
              "MarketSegment_Direct                           0\n",
              "MarketSegment_Groups                           0\n",
              "MarketSegment_Other                            0\n",
              "MarketSegment_Travel Agent/Operator            0\n",
              "dtype: int64"
            ]
          },
          "metadata": {},
          "execution_count": 6
        }
      ],
      "source": [
        "combined.isnull().sum()"
      ]
    },
    {
      "cell_type": "code",
      "execution_count": null,
      "metadata": {
        "colab": {
          "base_uri": "https://localhost:8080/"
        },
        "id": "pq2b0Q2dyVcH",
        "outputId": "85833698-7d37-4f65-baea-1d4fe2ac059d"
      },
      "outputs": [
        {
          "output_type": "execute_result",
          "data": {
            "text/plain": [
              "(1655, 34)"
            ]
          },
          "metadata": {},
          "execution_count": 7
        }
      ],
      "source": [
        "combined[combined.duplicated()].shape"
      ]
    },
    {
      "cell_type": "code",
      "execution_count": null,
      "metadata": {
        "colab": {
          "base_uri": "https://localhost:8080/"
        },
        "id": "zG6ApKxiyVcH",
        "outputId": "b7c0b79d-7063-497c-b872-ba4e9bca1a26"
      },
      "outputs": [
        {
          "output_type": "execute_result",
          "data": {
            "text/plain": [
              "(0, 34)"
            ]
          },
          "metadata": {},
          "execution_count": 8
        }
      ],
      "source": [
        "# removing duplicate rows\n",
        "combined = combined.drop_duplicates()\n",
        "combined[combined.duplicated()].shape"
      ]
    },
    {
      "cell_type": "code",
      "execution_count": null,
      "metadata": {
        "colab": {
          "base_uri": "https://localhost:8080/",
          "height": 1000
        },
        "id": "cSU2Vl9qyVcI",
        "outputId": "cd06396b-bb38-4ecc-d671-247bb1bc9a9e"
      },
      "outputs": [
        {
          "output_type": "execute_result",
          "data": {
            "text/plain": [
              "                                             Number of unique values\n",
              "Nationality                                                       86\n",
              "Age                                                               93\n",
              "DaysSinceCreation                                               1083\n",
              "AverageLeadTime                                                  402\n",
              "BookingsCanceled                                                   6\n",
              "BookingsNoShowed                                                   4\n",
              "BookingsCheckedIn                                                 27\n",
              "PersonsNights                                                     53\n",
              "RoomNights                                                        44\n",
              "DaysSinceLastStay                                               1100\n",
              "DaysSinceFirstStay                                              1094\n",
              "SRHighFloor                                                        2\n",
              "SRLowFloor                                                         2\n",
              "SRAccessibleRoom                                                   2\n",
              "SRMediumFloor                                                      2\n",
              "SRBathtub                                                          2\n",
              "SRShower                                                           2\n",
              "SRCrib                                                             2\n",
              "SRKingSizeBed                                                      2\n",
              "SRTwinBed                                                          2\n",
              "SRNearElevator                                                     2\n",
              "SRAwayFromElevator                                                 2\n",
              "SRNoAlcoholInMiniBar                                               2\n",
              "SRQuietRoom                                                        2\n",
              "TotalRevenue                                                   16134\n",
              "DistributionChannel_Direct                                         2\n",
              "DistributionChannel_Electronic Distribution                        2\n",
              "DistributionChannel_Travel Agent/Operator                          2\n",
              "MarketSegment_Complementary                                        2\n",
              "MarketSegment_Corporate                                            2\n",
              "MarketSegment_Direct                                               2\n",
              "MarketSegment_Groups                                               2\n",
              "MarketSegment_Other                                                2\n",
              "MarketSegment_Travel Agent/Operator                                2"
            ],
            "text/html": [
              "\n",
              "  <div id=\"df-0e3222ca-7868-458c-a89a-f6a4a78b810f\">\n",
              "    <div class=\"colab-df-container\">\n",
              "      <div>\n",
              "<style scoped>\n",
              "    .dataframe tbody tr th:only-of-type {\n",
              "        vertical-align: middle;\n",
              "    }\n",
              "\n",
              "    .dataframe tbody tr th {\n",
              "        vertical-align: top;\n",
              "    }\n",
              "\n",
              "    .dataframe thead th {\n",
              "        text-align: right;\n",
              "    }\n",
              "</style>\n",
              "<table border=\"1\" class=\"dataframe\">\n",
              "  <thead>\n",
              "    <tr style=\"text-align: right;\">\n",
              "      <th></th>\n",
              "      <th>Number of unique values</th>\n",
              "    </tr>\n",
              "  </thead>\n",
              "  <tbody>\n",
              "    <tr>\n",
              "      <th>Nationality</th>\n",
              "      <td>86</td>\n",
              "    </tr>\n",
              "    <tr>\n",
              "      <th>Age</th>\n",
              "      <td>93</td>\n",
              "    </tr>\n",
              "    <tr>\n",
              "      <th>DaysSinceCreation</th>\n",
              "      <td>1083</td>\n",
              "    </tr>\n",
              "    <tr>\n",
              "      <th>AverageLeadTime</th>\n",
              "      <td>402</td>\n",
              "    </tr>\n",
              "    <tr>\n",
              "      <th>BookingsCanceled</th>\n",
              "      <td>6</td>\n",
              "    </tr>\n",
              "    <tr>\n",
              "      <th>BookingsNoShowed</th>\n",
              "      <td>4</td>\n",
              "    </tr>\n",
              "    <tr>\n",
              "      <th>BookingsCheckedIn</th>\n",
              "      <td>27</td>\n",
              "    </tr>\n",
              "    <tr>\n",
              "      <th>PersonsNights</th>\n",
              "      <td>53</td>\n",
              "    </tr>\n",
              "    <tr>\n",
              "      <th>RoomNights</th>\n",
              "      <td>44</td>\n",
              "    </tr>\n",
              "    <tr>\n",
              "      <th>DaysSinceLastStay</th>\n",
              "      <td>1100</td>\n",
              "    </tr>\n",
              "    <tr>\n",
              "      <th>DaysSinceFirstStay</th>\n",
              "      <td>1094</td>\n",
              "    </tr>\n",
              "    <tr>\n",
              "      <th>SRHighFloor</th>\n",
              "      <td>2</td>\n",
              "    </tr>\n",
              "    <tr>\n",
              "      <th>SRLowFloor</th>\n",
              "      <td>2</td>\n",
              "    </tr>\n",
              "    <tr>\n",
              "      <th>SRAccessibleRoom</th>\n",
              "      <td>2</td>\n",
              "    </tr>\n",
              "    <tr>\n",
              "      <th>SRMediumFloor</th>\n",
              "      <td>2</td>\n",
              "    </tr>\n",
              "    <tr>\n",
              "      <th>SRBathtub</th>\n",
              "      <td>2</td>\n",
              "    </tr>\n",
              "    <tr>\n",
              "      <th>SRShower</th>\n",
              "      <td>2</td>\n",
              "    </tr>\n",
              "    <tr>\n",
              "      <th>SRCrib</th>\n",
              "      <td>2</td>\n",
              "    </tr>\n",
              "    <tr>\n",
              "      <th>SRKingSizeBed</th>\n",
              "      <td>2</td>\n",
              "    </tr>\n",
              "    <tr>\n",
              "      <th>SRTwinBed</th>\n",
              "      <td>2</td>\n",
              "    </tr>\n",
              "    <tr>\n",
              "      <th>SRNearElevator</th>\n",
              "      <td>2</td>\n",
              "    </tr>\n",
              "    <tr>\n",
              "      <th>SRAwayFromElevator</th>\n",
              "      <td>2</td>\n",
              "    </tr>\n",
              "    <tr>\n",
              "      <th>SRNoAlcoholInMiniBar</th>\n",
              "      <td>2</td>\n",
              "    </tr>\n",
              "    <tr>\n",
              "      <th>SRQuietRoom</th>\n",
              "      <td>2</td>\n",
              "    </tr>\n",
              "    <tr>\n",
              "      <th>TotalRevenue</th>\n",
              "      <td>16134</td>\n",
              "    </tr>\n",
              "    <tr>\n",
              "      <th>DistributionChannel_Direct</th>\n",
              "      <td>2</td>\n",
              "    </tr>\n",
              "    <tr>\n",
              "      <th>DistributionChannel_Electronic Distribution</th>\n",
              "      <td>2</td>\n",
              "    </tr>\n",
              "    <tr>\n",
              "      <th>DistributionChannel_Travel Agent/Operator</th>\n",
              "      <td>2</td>\n",
              "    </tr>\n",
              "    <tr>\n",
              "      <th>MarketSegment_Complementary</th>\n",
              "      <td>2</td>\n",
              "    </tr>\n",
              "    <tr>\n",
              "      <th>MarketSegment_Corporate</th>\n",
              "      <td>2</td>\n",
              "    </tr>\n",
              "    <tr>\n",
              "      <th>MarketSegment_Direct</th>\n",
              "      <td>2</td>\n",
              "    </tr>\n",
              "    <tr>\n",
              "      <th>MarketSegment_Groups</th>\n",
              "      <td>2</td>\n",
              "    </tr>\n",
              "    <tr>\n",
              "      <th>MarketSegment_Other</th>\n",
              "      <td>2</td>\n",
              "    </tr>\n",
              "    <tr>\n",
              "      <th>MarketSegment_Travel Agent/Operator</th>\n",
              "      <td>2</td>\n",
              "    </tr>\n",
              "  </tbody>\n",
              "</table>\n",
              "</div>\n",
              "      <button class=\"colab-df-convert\" onclick=\"convertToInteractive('df-0e3222ca-7868-458c-a89a-f6a4a78b810f')\"\n",
              "              title=\"Convert this dataframe to an interactive table.\"\n",
              "              style=\"display:none;\">\n",
              "        \n",
              "  <svg xmlns=\"http://www.w3.org/2000/svg\" height=\"24px\"viewBox=\"0 0 24 24\"\n",
              "       width=\"24px\">\n",
              "    <path d=\"M0 0h24v24H0V0z\" fill=\"none\"/>\n",
              "    <path d=\"M18.56 5.44l.94 2.06.94-2.06 2.06-.94-2.06-.94-.94-2.06-.94 2.06-2.06.94zm-11 1L8.5 8.5l.94-2.06 2.06-.94-2.06-.94L8.5 2.5l-.94 2.06-2.06.94zm10 10l.94 2.06.94-2.06 2.06-.94-2.06-.94-.94-2.06-.94 2.06-2.06.94z\"/><path d=\"M17.41 7.96l-1.37-1.37c-.4-.4-.92-.59-1.43-.59-.52 0-1.04.2-1.43.59L10.3 9.45l-7.72 7.72c-.78.78-.78 2.05 0 2.83L4 21.41c.39.39.9.59 1.41.59.51 0 1.02-.2 1.41-.59l7.78-7.78 2.81-2.81c.8-.78.8-2.07 0-2.86zM5.41 20L4 18.59l7.72-7.72 1.47 1.35L5.41 20z\"/>\n",
              "  </svg>\n",
              "      </button>\n",
              "      \n",
              "  <style>\n",
              "    .colab-df-container {\n",
              "      display:flex;\n",
              "      flex-wrap:wrap;\n",
              "      gap: 12px;\n",
              "    }\n",
              "\n",
              "    .colab-df-convert {\n",
              "      background-color: #E8F0FE;\n",
              "      border: none;\n",
              "      border-radius: 50%;\n",
              "      cursor: pointer;\n",
              "      display: none;\n",
              "      fill: #1967D2;\n",
              "      height: 32px;\n",
              "      padding: 0 0 0 0;\n",
              "      width: 32px;\n",
              "    }\n",
              "\n",
              "    .colab-df-convert:hover {\n",
              "      background-color: #E2EBFA;\n",
              "      box-shadow: 0px 1px 2px rgba(60, 64, 67, 0.3), 0px 1px 3px 1px rgba(60, 64, 67, 0.15);\n",
              "      fill: #174EA6;\n",
              "    }\n",
              "\n",
              "    [theme=dark] .colab-df-convert {\n",
              "      background-color: #3B4455;\n",
              "      fill: #D2E3FC;\n",
              "    }\n",
              "\n",
              "    [theme=dark] .colab-df-convert:hover {\n",
              "      background-color: #434B5C;\n",
              "      box-shadow: 0px 1px 3px 1px rgba(0, 0, 0, 0.15);\n",
              "      filter: drop-shadow(0px 1px 2px rgba(0, 0, 0, 0.3));\n",
              "      fill: #FFFFFF;\n",
              "    }\n",
              "  </style>\n",
              "\n",
              "      <script>\n",
              "        const buttonEl =\n",
              "          document.querySelector('#df-0e3222ca-7868-458c-a89a-f6a4a78b810f button.colab-df-convert');\n",
              "        buttonEl.style.display =\n",
              "          google.colab.kernel.accessAllowed ? 'block' : 'none';\n",
              "\n",
              "        async function convertToInteractive(key) {\n",
              "          const element = document.querySelector('#df-0e3222ca-7868-458c-a89a-f6a4a78b810f');\n",
              "          const dataTable =\n",
              "            await google.colab.kernel.invokeFunction('convertToInteractive',\n",
              "                                                     [key], {});\n",
              "          if (!dataTable) return;\n",
              "\n",
              "          const docLinkHtml = 'Like what you see? Visit the ' +\n",
              "            '<a target=\"_blank\" href=https://colab.research.google.com/notebooks/data_table.ipynb>data table notebook</a>'\n",
              "            + ' to learn more about interactive tables.';\n",
              "          element.innerHTML = '';\n",
              "          dataTable['output_type'] = 'display_data';\n",
              "          await google.colab.output.renderOutput(dataTable, element);\n",
              "          const docLink = document.createElement('div');\n",
              "          docLink.innerHTML = docLinkHtml;\n",
              "          element.appendChild(docLink);\n",
              "        }\n",
              "      </script>\n",
              "    </div>\n",
              "  </div>\n",
              "  "
            ]
          },
          "metadata": {},
          "execution_count": 9
        }
      ],
      "source": [
        "combined.nunique().to_frame(name = 'Number of unique values')"
      ]
    },
    {
      "cell_type": "code",
      "execution_count": null,
      "metadata": {
        "colab": {
          "base_uri": "https://localhost:8080/"
        },
        "id": "2wGjXzJRyVcJ",
        "outputId": "770b3119-37d8-470e-9711-85590f31dd05"
      },
      "outputs": [
        {
          "output_type": "stream",
          "name": "stdout",
          "text": [
            "Number of Outliers: 16660\n",
            "Number of rows without outliers: 60158\n"
          ]
        }
      ],
      "source": [
        "# removing outliers\n",
        "from sklearn.ensemble import IsolationForest\n",
        "\n",
        "clf = IsolationForest(max_samples = 100, random_state = 42)\n",
        "clf.fit(combined)\n",
        "y_noano = clf.predict(combined)\n",
        "y_noano = pd.DataFrame(y_noano, columns = ['Top'])\n",
        "y_noano[y_noano['Top'] == 1].index.values\n",
        "\n",
        "combined = combined.iloc[y_noano[y_noano['Top'] == 1].index.values]\n",
        "combined.reset_index(drop = True, inplace = True)\n",
        "print(\"Number of Outliers:\", y_noano[y_noano['Top'] == -1].shape[0])\n",
        "print(\"Number of rows without outliers:\", combined.shape[0])"
      ]
    },
    {
      "cell_type": "code",
      "execution_count": null,
      "metadata": {
        "colab": {
          "base_uri": "https://localhost:8080/"
        },
        "id": "sXSZm990yVcK",
        "outputId": "73fb8c8f-762c-470b-df4c-22a0aa466cc4"
      },
      "outputs": [
        {
          "output_type": "stream",
          "name": "stderr",
          "text": [
            "/usr/local/lib/python3.7/dist-packages/pandas/core/frame.py:4913: SettingWithCopyWarning: \n",
            "A value is trying to be set on a copy of a slice from a DataFrame\n",
            "\n",
            "See the caveats in the documentation: https://pandas.pydata.org/pandas-docs/stable/user_guide/indexing.html#returning-a-view-versus-a-copy\n",
            "  errors=errors,\n"
          ]
        }
      ],
      "source": [
        "y = combined['BookingsCheckedIn']\n",
        "combined.drop(['BookingsCheckedIn'], axis=1, inplace=True)\n",
        "X = combined"
      ]
    },
    {
      "cell_type": "code",
      "execution_count": null,
      "metadata": {
        "id": "QpYeS6wyyVcK"
      },
      "outputs": [],
      "source": [
        "# Select categorical columns with relatively low cardinality \n",
        "categorical_cols = [cname for cname in X.columns if\n",
        "                    X[cname].nunique() < 100 and \n",
        "                    X[cname].dtype == \"object\"]\n",
        "\n",
        "# Select numerical columns\n",
        "numerical_cols = [cname for cname in X.columns if \n",
        "                X[cname].dtype in ['int64', 'float64']]"
      ]
    },
    {
      "cell_type": "code",
      "execution_count": null,
      "metadata": {
        "id": "ycNn0ldbyVcL"
      },
      "outputs": [],
      "source": [
        "from sklearn.model_selection import train_test_split\n",
        "X_train, X_test, y_train, y_test = train_test_split(X, y, test_size=0.1, random_state=42)"
      ]
    },
    {
      "cell_type": "code",
      "source": [
        "y_train.values.reshape(1,-1)"
      ],
      "metadata": {
        "colab": {
          "base_uri": "https://localhost:8080/"
        },
        "id": "uxLw6coW3Nmd",
        "outputId": "81d8ab44-b99a-4e68-a1ff-fb7eab209fd4"
      },
      "execution_count": null,
      "outputs": [
        {
          "output_type": "execute_result",
          "data": {
            "text/plain": [
              "array([[1, 1, 1, ..., 1, 1, 0]])"
            ]
          },
          "metadata": {},
          "execution_count": 14
        }
      ]
    },
    {
      "cell_type": "code",
      "execution_count": null,
      "metadata": {
        "id": "G3I4Qn73yVcL"
      },
      "outputs": [],
      "source": [
        "# standarisation: We use the MinMaxScaler() from sklearn library\n",
        "from sklearn.preprocessing import MinMaxScaler\n",
        "scaler=MinMaxScaler()\n",
        "\n",
        "# fit and transform on train data\n",
        "X_train[numerical_cols] = scaler.fit_transform(X_train[numerical_cols])\n",
        "# transform test data\n",
        "X_test[numerical_cols] = scaler.transform(X_test[numerical_cols])"
      ]
    },
    {
      "cell_type": "code",
      "execution_count": null,
      "metadata": {
        "colab": {
          "base_uri": "https://localhost:8080/"
        },
        "id": "GqC3IkRbyVcM",
        "outputId": "a212c871-0e6b-44cc-96bd-31eea4a95fc0"
      },
      "outputs": [
        {
          "output_type": "execute_result",
          "data": {
            "text/plain": [
              "0.7321735755059857"
            ]
          },
          "metadata": {},
          "execution_count": 16
        }
      ],
      "source": [
        "from sklearn.linear_model import LinearRegression\n",
        "reg = LinearRegression().fit(X_train, y_train)\n",
        "reg.score(X_test,y_test)"
      ]
    },
    {
      "cell_type": "code",
      "source": [
        "from sklearn.metrics import mean_squared_error\n",
        "mean_squared_error(y_test, reg.predict(X_test))"
      ],
      "metadata": {
        "colab": {
          "base_uri": "https://localhost:8080/"
        },
        "id": "f5nxEKS8CR2E",
        "outputId": "c56f7a90-998a-46d9-a3d4-aa073823a4a0"
      },
      "execution_count": null,
      "outputs": [
        {
          "output_type": "execute_result",
          "data": {
            "text/plain": [
              "0.05321602815460586"
            ]
          },
          "metadata": {},
          "execution_count": 17
        }
      ]
    },
    {
      "cell_type": "code",
      "execution_count": null,
      "metadata": {
        "colab": {
          "base_uri": "https://localhost:8080/"
        },
        "id": "D2bJwQEJyVcM",
        "outputId": "a1b75d39-1043-40d9-b418-54e5d3666008"
      },
      "outputs": [
        {
          "output_type": "execute_result",
          "data": {
            "text/plain": [
              "0.9406034134514768"
            ]
          },
          "metadata": {},
          "execution_count": 18
        }
      ],
      "source": [
        "from sklearn.model_selection import cross_val_score\n",
        "from sklearn.tree import DecisionTreeRegressor\n",
        "\n",
        "regressor = DecisionTreeRegressor(random_state=0).fit(X_train, y_train)\n",
        "regressor.score(X_test,y_test)"
      ]
    },
    {
      "cell_type": "code",
      "source": [
        "mean_squared_error(y_test, regressor.predict(X_test))"
      ],
      "metadata": {
        "colab": {
          "base_uri": "https://localhost:8080/"
        },
        "id": "zTm8g0q9Cios",
        "outputId": "53dde2d4-d332-417c-b0c3-48a3422837de"
      },
      "execution_count": null,
      "outputs": [
        {
          "output_type": "execute_result",
          "data": {
            "text/plain": [
              "0.01180186170212766"
            ]
          },
          "metadata": {},
          "execution_count": 19
        }
      ]
    },
    {
      "cell_type": "code",
      "execution_count": null,
      "metadata": {
        "id": "dYAMUdyRyVcN"
      },
      "outputs": [],
      "source": [
        "## define a gradient boosting model\n",
        "from xgboost import XGBRegressor\n",
        "from sklearn.metrics import mean_absolute_error\n",
        "from sklearn.metrics import mean_squared_log_error\n",
        "from sklearn.model_selection import GridSearchCV\n",
        "from sklearn.pipeline import Pipeline"
      ]
    },
    {
      "cell_type": "code",
      "execution_count": null,
      "metadata": {
        "colab": {
          "base_uri": "https://localhost:8080/"
        },
        "id": "TqFHiLJ4yVcN",
        "outputId": "2ded3e85-a941-424e-be6d-84c355a9223b"
      },
      "outputs": [
        {
          "output_type": "stream",
          "name": "stdout",
          "text": [
            "[07:45:56] WARNING: /workspace/src/objective/regression_obj.cu:152: reg:linear is now deprecated in favor of reg:squarederror.\n"
          ]
        },
        {
          "output_type": "execute_result",
          "data": {
            "text/plain": [
              "0.9620419413224748"
            ]
          },
          "metadata": {},
          "execution_count": 21
        }
      ],
      "source": [
        "xgb = XGBRegressor(model__colsample_bytree= 0.7, model__learning_rate= 0.01, model__max_depth= 5, model__n_estimators= 4000, model__reg_lambda= 0.9, model__subsample= 0.4)\n",
        "xgb.fit(X_train,y_train)\n",
        "xgb.score(X_test,y_test)"
      ]
    },
    {
      "cell_type": "code",
      "source": [
        "mean_squared_error(y_test, xgb.predict(X_test))"
      ],
      "metadata": {
        "colab": {
          "base_uri": "https://localhost:8080/"
        },
        "id": "FjUw-WQIClwk",
        "outputId": "6fb9d810-0bfa-4dc9-eed8-9868b729ee1a"
      },
      "execution_count": null,
      "outputs": [
        {
          "output_type": "execute_result",
          "data": {
            "text/plain": [
              "0.007542112855718272"
            ]
          },
          "metadata": {},
          "execution_count": 22
        }
      ]
    },
    {
      "cell_type": "markdown",
      "metadata": {
        "id": "mXDusbW5yVcN"
      },
      "source": [
        "## Neural Network Regression Analysis :"
      ]
    },
    {
      "cell_type": "code",
      "execution_count": null,
      "metadata": {
        "id": "TyW9vKRvyVcP"
      },
      "outputs": [],
      "source": [
        "import math\n",
        "import pandas as pd\n",
        "import tensorflow as tf\n",
        "import matplotlib.pyplot as plt\n",
        "from tensorflow.keras import Model\n",
        "from tensorflow.keras import Sequential\n",
        "from tensorflow.keras.optimizers import Adam\n",
        "from sklearn.preprocessing import StandardScaler\n",
        "from tensorflow.keras.layers import Dense, Dropout\n",
        "from sklearn.model_selection import train_test_split\n",
        "from tensorflow.keras.losses import MeanSquaredLogarithmicError"
      ]
    },
    {
      "cell_type": "code",
      "source": [
        "# another model\n",
        "import numpy as np\n",
        "import tensorflow as tf\n",
        "from keras.models import Sequential\n",
        "from keras.layers import Dense\n",
        "from keras.wrappers.scikit_learn import KerasRegressor\n",
        "\n",
        "seed = 7\n",
        "np.random.seed(seed)\n",
        "\n",
        "# Model\n",
        "model1 = Sequential()\n",
        "model1.add(Dense(200, input_dim=33, kernel_initializer='normal', activation='relu'))\n",
        "model1.add(Dense(100, kernel_initializer='normal', activation='relu'))\n",
        "model1.add(Dense(50, kernel_initializer='normal', activation='relu'))\n",
        "model1.add(Dense(25, kernel_initializer='normal', activation='relu'))\n",
        "model1.add(Dense(1, kernel_initializer='normal'))\n",
        "# Compile model\n",
        "model1.compile(loss='mean_squared_error', optimizer=tf.keras.optimizers.Adam(learning_rate = 0.01))\n",
        "\n",
        "feature_cols = X_train\n",
        "labels = y_train.values\n",
        "\n",
        "model1.fit(np.array(feature_cols), np.array(labels), epochs=30, batch_size=10)"
      ],
      "metadata": {
        "colab": {
          "base_uri": "https://localhost:8080/"
        },
        "id": "7hNclpYU2VlK",
        "outputId": "611ff69b-7943-4c66-fcb3-2f02db32b2e6"
      },
      "execution_count": null,
      "outputs": [
        {
          "output_type": "stream",
          "name": "stdout",
          "text": [
            "Epoch 1/30\n",
            "5415/5415 [==============================] - 16s 3ms/step - loss: 0.0167\n",
            "Epoch 2/30\n",
            "5415/5415 [==============================] - 12s 2ms/step - loss: 0.0142\n",
            "Epoch 3/30\n",
            "5415/5415 [==============================] - 11s 2ms/step - loss: 0.0130\n",
            "Epoch 4/30\n",
            "5415/5415 [==============================] - 12s 2ms/step - loss: 0.0130\n",
            "Epoch 5/30\n",
            "5415/5415 [==============================] - 12s 2ms/step - loss: 0.0129\n",
            "Epoch 6/30\n",
            "5415/5415 [==============================] - 12s 2ms/step - loss: 0.0128\n",
            "Epoch 7/30\n",
            "5415/5415 [==============================] - 12s 2ms/step - loss: 0.0128\n",
            "Epoch 8/30\n",
            "5415/5415 [==============================] - 12s 2ms/step - loss: 0.0127\n",
            "Epoch 9/30\n",
            "5415/5415 [==============================] - 17s 3ms/step - loss: 0.0128\n",
            "Epoch 10/30\n",
            "5415/5415 [==============================] - 12s 2ms/step - loss: 0.0127\n",
            "Epoch 11/30\n",
            "5415/5415 [==============================] - 12s 2ms/step - loss: 0.0126\n",
            "Epoch 12/30\n",
            "5415/5415 [==============================] - 12s 2ms/step - loss: 0.0127\n",
            "Epoch 13/30\n",
            "5415/5415 [==============================] - 12s 2ms/step - loss: 0.0126\n",
            "Epoch 14/30\n",
            "5415/5415 [==============================] - 12s 2ms/step - loss: 0.0127\n",
            "Epoch 15/30\n",
            "5415/5415 [==============================] - 13s 2ms/step - loss: 0.0127\n",
            "Epoch 16/30\n",
            "5415/5415 [==============================] - 12s 2ms/step - loss: 0.0127\n",
            "Epoch 17/30\n",
            "5415/5415 [==============================] - 13s 2ms/step - loss: 0.0127\n",
            "Epoch 18/30\n",
            "5415/5415 [==============================] - 12s 2ms/step - loss: 0.0127\n",
            "Epoch 19/30\n",
            "5415/5415 [==============================] - 11s 2ms/step - loss: 0.0127\n",
            "Epoch 20/30\n",
            "5415/5415 [==============================] - 12s 2ms/step - loss: 0.0126\n",
            "Epoch 21/30\n",
            "5415/5415 [==============================] - 11s 2ms/step - loss: 0.0127\n",
            "Epoch 22/30\n",
            "5415/5415 [==============================] - 11s 2ms/step - loss: 0.0127\n",
            "Epoch 23/30\n",
            "5415/5415 [==============================] - 11s 2ms/step - loss: 0.0126\n",
            "Epoch 24/30\n",
            "5415/5415 [==============================] - 11s 2ms/step - loss: 0.0127\n",
            "Epoch 25/30\n",
            "5415/5415 [==============================] - 13s 2ms/step - loss: 0.0127\n",
            "Epoch 26/30\n",
            "5415/5415 [==============================] - 11s 2ms/step - loss: 0.0127\n",
            "Epoch 27/30\n",
            "5415/5415 [==============================] - 12s 2ms/step - loss: 0.0127\n",
            "Epoch 28/30\n",
            "5415/5415 [==============================] - 11s 2ms/step - loss: 0.0127\n",
            "Epoch 29/30\n",
            "5415/5415 [==============================] - 11s 2ms/step - loss: 0.0127\n",
            "Epoch 30/30\n",
            "5415/5415 [==============================] - 11s 2ms/step - loss: 0.0127\n"
          ]
        },
        {
          "output_type": "execute_result",
          "data": {
            "text/plain": [
              "<keras.callbacks.History at 0x7f0e67e2f790>"
            ]
          },
          "metadata": {},
          "execution_count": 25
        }
      ]
    },
    {
      "cell_type": "code",
      "source": [
        "# Evaluation on the test set created by train_test_split\n",
        "model1.evaluate(np.array(X_test), np.array(y_test))"
      ],
      "metadata": {
        "colab": {
          "base_uri": "https://localhost:8080/"
        },
        "id": "RZIDyDMkA_Vv",
        "outputId": "310e829a-dc16-4855-8355-9bbe7ea9214c"
      },
      "execution_count": null,
      "outputs": [
        {
          "output_type": "stream",
          "name": "stdout",
          "text": [
            "188/188 [==============================] - 0s 1ms/step - loss: 0.0093\n"
          ]
        },
        {
          "output_type": "execute_result",
          "data": {
            "text/plain": [
              "0.009316489100456238"
            ]
          },
          "metadata": {},
          "execution_count": 26
        }
      ]
    },
    {
      "cell_type": "code",
      "source": [
        "### creating pickle file for model1\n",
        "import pickle\n",
        "pickle_out = open(\"modelDeepLearning.pkl\",\"wb\")\n",
        "pickle.dump(model1, pickle_out)\n",
        "pickle_out.close()"
      ],
      "metadata": {
        "id": "w9f-ZTVND8D1"
      },
      "execution_count": null,
      "outputs": []
    }
  ],
  "metadata": {
    "kernelspec": {
      "display_name": "Python 3",
      "language": "python",
      "name": "python3"
    },
    "language_info": {
      "codemirror_mode": {
        "name": "ipython",
        "version": 3
      },
      "file_extension": ".py",
      "mimetype": "text/x-python",
      "name": "python",
      "nbconvert_exporter": "python",
      "pygments_lexer": "ipython3",
      "version": "3.7.6"
    },
    "colab": {
      "provenance": [],
      "collapsed_sections": []
    }
  },
  "nbformat": 4,
  "nbformat_minor": 0
}