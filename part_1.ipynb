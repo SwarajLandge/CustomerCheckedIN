{
  "cells": [
    {
      "cell_type": "markdown",
      "metadata": {
        "id": "AsSN9Onnj5cn"
      },
      "source": [
        "<h2> Q1) Write a regex to extract all the numbers with orange color background from the below text in italics.<h2>"
      ]
    },
    {
      "cell_type": "code",
      "execution_count": null,
      "metadata": {
        "id": "nyL8vLZAj5cz"
      },
      "outputs": [],
      "source": [
        "# These are all numbers with orange color background\n",
        "\n",
        "from IPython.display import Image\n",
        "Image(\"part_1.png\")"
      ]
    },
    {
      "cell_type": "markdown",
      "metadata": {
        "id": "lIxxu9-rj5c4"
      },
      "source": [
        "## Observation :\n",
        "- We can solve this problem in two ways : \n",
        "              a) Using loop through dict present inside list present inside dict to extract numbers. \n",
        "              b) Assuming this whole as a string and applying regular expression to extract numeric value ."
      ]
    },
    {
      "cell_type": "markdown",
      "metadata": {
        "id": "h1bsth--j5c6"
      },
      "source": [
        "### Method A  (Loop)- "
      ]
    },
    {
      "cell_type": "code",
      "execution_count": null,
      "metadata": {
        "id": "paEgfl3Hj5c8"
      },
      "outputs": [],
      "source": [
        "# dict\n",
        "a = {\"orders\":[{\"id\":1},{\"id\":2},{\"id\":3},{\"id\":4},{\"id\":5},{\"id\":6},{\"id\":7},{\"id\":8},{\"id\":9},{\"id\":10},{\"id\":11},{\"id\":648},{\"id\":649},{\"id\":650},{\"id\":651},{\"id\":652},{\"id\":653}],\n",
        "     \"errors\":[{\"code\":3,\"message\":\"[PHP Warning #2] count(): Parameter must be an array or an object that implements Countable (153)\"}]}"
      ]
    },
    {
      "cell_type": "code",
      "execution_count": null,
      "metadata": {
        "id": "RdRJk0Ecj5c-",
        "outputId": "bb3c9e64-64d1-4fd9-8bc0-a2f6c4c5de93"
      },
      "outputs": [
        {
          "name": "stdout",
          "output_type": "stream",
          "text": [
            "The datatype is <class 'dict'>\n"
          ]
        }
      ],
      "source": [
        "# type\n",
        "print(\"The datatype is\",type(a))"
      ]
    },
    {
      "cell_type": "code",
      "execution_count": null,
      "metadata": {
        "id": "ADxtt2p0j5dC"
      },
      "outputs": [],
      "source": [
        "# applying loop\n",
        "                                \n",
        "def extraction(data):\n",
        "    '''\n",
        "    Function to extract numeric value \n",
        "    '''\n",
        "    extracted_num = list()                                       # to store all numeric value\n",
        "    for i in data.values():                                      # extract all value from dictionary from keys\n",
        "        for j in i:                                              # loop and extract all values in list \n",
        "            for k in j.values():                                  # extract all values from dictionary from keys\n",
        "                if type(k) == int:                               # only if value is numeric store in list\n",
        "                    extracted_num.append(k)\n",
        "    return extracted_num "
      ]
    },
    {
      "cell_type": "code",
      "execution_count": null,
      "metadata": {
        "id": "8wd40xHTj5dF",
        "outputId": "49433c51-7928-45a0-ee2c-b3a72f9dd7a9"
      },
      "outputs": [
        {
          "name": "stdout",
          "output_type": "stream",
          "text": [
            "Result using Method of looping is  [1, 2, 3, 4, 5, 6, 7, 8, 9, 10, 11, 648, 649, 650, 651, 652, 653, 3]\n"
          ]
        }
      ],
      "source": [
        "print(\"Result using Method of looping is \",extraction(a))"
      ]
    },
    {
      "cell_type": "markdown",
      "metadata": {
        "id": "wNw-ZigLj5dH"
      },
      "source": [
        "### Method B (Regex)- "
      ]
    },
    {
      "cell_type": "code",
      "execution_count": null,
      "metadata": {
        "id": "tpwvyHYHj5dK"
      },
      "outputs": [],
      "source": [
        "# considering it as a string as regex work on string data\n",
        "\n",
        "b = '{\"orders\":[{\"id\":1},{\"id\":2},{\"id\":3},{\"id\":4},{\"id\":5},{\"id\":6},{\"id\":7},{\"id\":8},{\"id\":9},{\"id\":10},{\"id\":11},{\"id\":648},{\"id\":649},{\"id\":650},{\"id\":651},{\"id\":652},{\"id\":653}],\"errors\":[{\"code\":3,\"message\":\"[PHP Warning #2] count(): Parameter must be an array or an object that implements Countable (153)\"}]}'"
      ]
    },
    {
      "cell_type": "code",
      "execution_count": null,
      "metadata": {
        "id": "wsr1Tfqcj5dL",
        "outputId": "53d77a19-5d6e-48cd-c725-abe5ea8a65a8"
      },
      "outputs": [
        {
          "name": "stdout",
          "output_type": "stream",
          "text": [
            "{\"orders\":[{\"id\":1},{\"id\":2},{\"id\":3},{\"id\":4},{\"id\":5},{\"id\":6},{\"id\":7},{\"id\":8},{\"id\":9},{\"id\":10},{\"id\":11},{\"id\":648},{\"id\":649},{\"id\":650},{\"id\":651},{\"id\":652},{\"id\":653}],\"errors\":[{\"code\":3,\"message\":\"[PHP Warning #2] count(): Parameter must be an array or an object that implements Countable (153)\"}]}\n"
          ]
        }
      ],
      "source": [
        "print(b)"
      ]
    },
    {
      "cell_type": "code",
      "execution_count": null,
      "metadata": {
        "id": "P5-lQgJTj5dN",
        "outputId": "33e66fb6-453d-4815-8b1c-ee3ac06685ce"
      },
      "outputs": [
        {
          "name": "stdout",
          "output_type": "stream",
          "text": [
            "The datatype is <class 'str'>\n"
          ]
        }
      ],
      "source": [
        "# type\n",
        "print(\"The datatype is\",type(b))"
      ]
    },
    {
      "cell_type": "code",
      "execution_count": null,
      "metadata": {
        "id": "9LbINsIGj5dO",
        "outputId": "6b6df2ee-6fbc-4e7c-b477-425567629746"
      },
      "outputs": [
        {
          "name": "stdout",
          "output_type": "stream",
          "text": [
            "Result using regex  ['1', '2', '3', '4', '5', '6', '7', '8', '9', '10', '11', '648', '649', '650', '651', '652', '653', '3']\n"
          ]
        }
      ],
      "source": [
        "# applying regular expression\n",
        "# reference - https://regexr.com/\n",
        "\n",
        "import re\n",
        "x = re.findall(':[0-9]+', b)\n",
        "print(\"Result using regex \",[s.strip(':') for s in x])"
      ]
    }
  ],
  "metadata": {
    "kernelspec": {
      "display_name": "Python 3",
      "language": "python",
      "name": "python3"
    },
    "language_info": {
      "codemirror_mode": {
        "name": "ipython",
        "version": 3
      },
      "file_extension": ".py",
      "mimetype": "text/x-python",
      "name": "python",
      "nbconvert_exporter": "python",
      "pygments_lexer": "ipython3",
      "version": "3.7.6"
    },
    "colab": {
      "provenance": []
    }
  },
  "nbformat": 4,
  "nbformat_minor": 0
}