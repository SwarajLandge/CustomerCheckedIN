{
  "nbformat": 4,
  "nbformat_minor": 0,
  "metadata": {
    "colab": {
      "provenance": [],
      "collapsed_sections": []
    },
    "kernelspec": {
      "name": "python3",
      "display_name": "Python 3"
    },
    "language_info": {
      "name": "python"
    }
  },
  "cells": [
    {
      "cell_type": "markdown",
      "source": [
        "# Importing Libraries"
      ],
      "metadata": {
        "id": "eFdiyC5TcWu8"
      }
    },
    {
      "cell_type": "code",
      "execution_count": null,
      "metadata": {
        "id": "JkZqZB8zbza5"
      },
      "outputs": [],
      "source": [
        "import numpy as np\n",
        "import pandas as pd"
      ]
    },
    {
      "cell_type": "code",
      "source": [
        "from sklearn.model_selection import train_test_split\n",
        "from sklearn.compose import ColumnTransformer\n",
        "from sklearn.impute import SimpleImputer\n",
        "from sklearn.preprocessing import OneHotEncoder\n",
        "from sklearn.preprocessing import MinMaxScaler\n",
        "from sklearn.pipeline import Pipeline,make_pipeline"
      ],
      "metadata": {
        "id": "lCXTxbvQb6LK"
      },
      "execution_count": null,
      "outputs": []
    },
    {
      "cell_type": "markdown",
      "source": [],
      "metadata": {
        "id": "2pR22FkgyDs8"
      }
    },
    {
      "cell_type": "code",
      "source": [
        "#get train data\n",
        "train_data_path ='train_data_evaluation_part_2.csv'\n",
        "train = pd.read_csv(train_data_path, index_col=0)\n",
        "\n",
        "#get test data\n",
        "test_data_path ='test_data_evaluation_part2.csv'\n",
        "test = pd.read_csv(test_data_path, index_col=0)\n",
        "\n",
        "#combine dataset to preprocess\n",
        "combined = train.append(test)\n",
        "combined.reset_index(inplace=True)\n",
        "\n",
        "combined.head()\n",
        "combined.drop(['ID','index'], inplace=True, axis=1)"
      ],
      "metadata": {
        "id": "mrM9f1MgfB9R"
      },
      "execution_count": null,
      "outputs": []
    },
    {
      "cell_type": "code",
      "source": [
        "train.columns"
      ],
      "metadata": {
        "colab": {
          "base_uri": "https://localhost:8080/"
        },
        "id": "H7ooc1MxlwII",
        "outputId": "cab39964-f874-48de-d1c0-68dd0d4e2c65"
      },
      "execution_count": null,
      "outputs": [
        {
          "output_type": "execute_result",
          "data": {
            "text/plain": [
              "Index(['ID', 'Nationality', 'Age', 'DaysSinceCreation', 'AverageLeadTime',\n",
              "       'LodgingRevenue', 'OtherRevenue', 'BookingsCanceled',\n",
              "       'BookingsNoShowed', 'BookingsCheckedIn', 'PersonsNights', 'RoomNights',\n",
              "       'DaysSinceLastStay', 'DaysSinceFirstStay', 'DistributionChannel',\n",
              "       'MarketSegment', 'SRHighFloor', 'SRLowFloor', 'SRAccessibleRoom',\n",
              "       'SRMediumFloor', 'SRBathtub', 'SRShower', 'SRCrib', 'SRKingSizeBed',\n",
              "       'SRTwinBed', 'SRNearElevator', 'SRAwayFromElevator',\n",
              "       'SRNoAlcoholInMiniBar', 'SRQuietRoom'],\n",
              "      dtype='object')"
            ]
          },
          "metadata": {},
          "execution_count": 5
        }
      ]
    },
    {
      "cell_type": "code",
      "source": [
        "# code to encode Nationality categorical Object Column into count/freq encoding\n",
        "# let's obtain the counts for each one of the labels in variable Natinality\n",
        "# let's capture this in a dictionary that we can use to re-map the labels\n",
        "\n",
        "combined.Nationality.value_counts().to_dict()\n",
        "\n",
        "\n",
        "# And now let's replace each label in Natinality by its count\n",
        "# first we make a dictionary that maps each label to the counts\n",
        "\n",
        "combined_frequency_map = combined.Nationality.value_counts().to_dict()\n",
        "\n",
        "# and now we replace X2 labels in the dataset df\n",
        "combined.Nationality = combined.Nationality.map(combined_frequency_map)\n"
      ],
      "metadata": {
        "id": "LCr52RUMdjgr"
      },
      "execution_count": null,
      "outputs": []
    },
    {
      "cell_type": "code",
      "source": [
        "# Eliminate outliers\n",
        "combined= combined[combined['LodgingRevenue'] < 10000]\n",
        "combined= combined[combined['OtherRevenue'] < 3000]\n",
        "combined = combined[combined['Age'] >= 0 ]\n",
        "combined = combined[combined['Age'] < 100 ]\n",
        "combined = combined[combined['AverageLeadTime'] >= 0] \n",
        "combined = combined[combined['AverageLeadTime'] < 500]"
      ],
      "metadata": {
        "id": "O7Q4gqSthvM7"
      },
      "execution_count": null,
      "outputs": []
    },
    {
      "cell_type": "code",
      "source": [
        "# Step 1 -> train/test/split\n",
        "X_train,X_test,y_train,y_test = train_test_split(combined.drop(columns=['BookingsCheckedIn']),\n",
        "                                                 combined['BookingsCheckedIn'],\n",
        "                                                 test_size=0.1,\n",
        "                                                random_state=42)"
      ],
      "metadata": {
        "id": "8zGlYzKwgo43"
      },
      "execution_count": null,
      "outputs": []
    },
    {
      "cell_type": "code",
      "source": [
        "X_train.head()"
      ],
      "metadata": {
        "colab": {
          "base_uri": "https://localhost:8080/",
          "height": 299
        },
        "id": "jLd3psHchDYe",
        "outputId": "278decdb-4f15-4953-9d17-365b902c4135"
      },
      "execution_count": null,
      "outputs": [
        {
          "output_type": "execute_result",
          "data": {
            "text/plain": [
              "       Nationality   Age  DaysSinceCreation  AverageLeadTime  LodgingRevenue  \\\n",
              "55053         1524  76.0                239              320          452.00   \n",
              "2693         12418  43.0               1026               14           79.00   \n",
              "78203         2725  50.0                 63                0            0.00   \n",
              "66729        10232  41.0                147                0            0.00   \n",
              "41582        12418  34.0                401               17          393.15   \n",
              "\n",
              "       OtherRevenue  BookingsCanceled  BookingsNoShowed  PersonsNights  \\\n",
              "55053         68.00                 0                 0              8   \n",
              "2693           9.00                 0                 0              1   \n",
              "78203          0.00                 0                 0              0   \n",
              "66729          0.00                 0                 0              0   \n",
              "41582         82.15                 0                 0             15   \n",
              "\n",
              "       RoomNights  ...  SRMediumFloor  SRBathtub SRShower SRCrib  \\\n",
              "55053           4  ...              0          0        0      0   \n",
              "2693            1  ...              0          0        0      0   \n",
              "78203           0  ...              0          0        0      0   \n",
              "66729           0  ...              0          0        0      0   \n",
              "41582           5  ...              0          0        0      0   \n",
              "\n",
              "       SRKingSizeBed  SRTwinBed  SRNearElevator  SRAwayFromElevator  \\\n",
              "55053              0          1               0                   0   \n",
              "2693               1          0               0                   0   \n",
              "78203              1          0               0                   0   \n",
              "66729              1          0               0                   0   \n",
              "41582              0          0               0                   0   \n",
              "\n",
              "       SRNoAlcoholInMiniBar  SRQuietRoom  \n",
              "55053                     0            0  \n",
              "2693                      0            0  \n",
              "78203                     0            0  \n",
              "66729                     0            1  \n",
              "41582                     0            0  \n",
              "\n",
              "[5 rows x 27 columns]"
            ],
            "text/html": [
              "\n",
              "  <div id=\"df-606f566d-8710-4aa6-9e88-6b793d137015\">\n",
              "    <div class=\"colab-df-container\">\n",
              "      <div>\n",
              "<style scoped>\n",
              "    .dataframe tbody tr th:only-of-type {\n",
              "        vertical-align: middle;\n",
              "    }\n",
              "\n",
              "    .dataframe tbody tr th {\n",
              "        vertical-align: top;\n",
              "    }\n",
              "\n",
              "    .dataframe thead th {\n",
              "        text-align: right;\n",
              "    }\n",
              "</style>\n",
              "<table border=\"1\" class=\"dataframe\">\n",
              "  <thead>\n",
              "    <tr style=\"text-align: right;\">\n",
              "      <th></th>\n",
              "      <th>Nationality</th>\n",
              "      <th>Age</th>\n",
              "      <th>DaysSinceCreation</th>\n",
              "      <th>AverageLeadTime</th>\n",
              "      <th>LodgingRevenue</th>\n",
              "      <th>OtherRevenue</th>\n",
              "      <th>BookingsCanceled</th>\n",
              "      <th>BookingsNoShowed</th>\n",
              "      <th>PersonsNights</th>\n",
              "      <th>RoomNights</th>\n",
              "      <th>...</th>\n",
              "      <th>SRMediumFloor</th>\n",
              "      <th>SRBathtub</th>\n",
              "      <th>SRShower</th>\n",
              "      <th>SRCrib</th>\n",
              "      <th>SRKingSizeBed</th>\n",
              "      <th>SRTwinBed</th>\n",
              "      <th>SRNearElevator</th>\n",
              "      <th>SRAwayFromElevator</th>\n",
              "      <th>SRNoAlcoholInMiniBar</th>\n",
              "      <th>SRQuietRoom</th>\n",
              "    </tr>\n",
              "  </thead>\n",
              "  <tbody>\n",
              "    <tr>\n",
              "      <th>55053</th>\n",
              "      <td>1524</td>\n",
              "      <td>76.0</td>\n",
              "      <td>239</td>\n",
              "      <td>320</td>\n",
              "      <td>452.00</td>\n",
              "      <td>68.00</td>\n",
              "      <td>0</td>\n",
              "      <td>0</td>\n",
              "      <td>8</td>\n",
              "      <td>4</td>\n",
              "      <td>...</td>\n",
              "      <td>0</td>\n",
              "      <td>0</td>\n",
              "      <td>0</td>\n",
              "      <td>0</td>\n",
              "      <td>0</td>\n",
              "      <td>1</td>\n",
              "      <td>0</td>\n",
              "      <td>0</td>\n",
              "      <td>0</td>\n",
              "      <td>0</td>\n",
              "    </tr>\n",
              "    <tr>\n",
              "      <th>2693</th>\n",
              "      <td>12418</td>\n",
              "      <td>43.0</td>\n",
              "      <td>1026</td>\n",
              "      <td>14</td>\n",
              "      <td>79.00</td>\n",
              "      <td>9.00</td>\n",
              "      <td>0</td>\n",
              "      <td>0</td>\n",
              "      <td>1</td>\n",
              "      <td>1</td>\n",
              "      <td>...</td>\n",
              "      <td>0</td>\n",
              "      <td>0</td>\n",
              "      <td>0</td>\n",
              "      <td>0</td>\n",
              "      <td>1</td>\n",
              "      <td>0</td>\n",
              "      <td>0</td>\n",
              "      <td>0</td>\n",
              "      <td>0</td>\n",
              "      <td>0</td>\n",
              "    </tr>\n",
              "    <tr>\n",
              "      <th>78203</th>\n",
              "      <td>2725</td>\n",
              "      <td>50.0</td>\n",
              "      <td>63</td>\n",
              "      <td>0</td>\n",
              "      <td>0.00</td>\n",
              "      <td>0.00</td>\n",
              "      <td>0</td>\n",
              "      <td>0</td>\n",
              "      <td>0</td>\n",
              "      <td>0</td>\n",
              "      <td>...</td>\n",
              "      <td>0</td>\n",
              "      <td>0</td>\n",
              "      <td>0</td>\n",
              "      <td>0</td>\n",
              "      <td>1</td>\n",
              "      <td>0</td>\n",
              "      <td>0</td>\n",
              "      <td>0</td>\n",
              "      <td>0</td>\n",
              "      <td>0</td>\n",
              "    </tr>\n",
              "    <tr>\n",
              "      <th>66729</th>\n",
              "      <td>10232</td>\n",
              "      <td>41.0</td>\n",
              "      <td>147</td>\n",
              "      <td>0</td>\n",
              "      <td>0.00</td>\n",
              "      <td>0.00</td>\n",
              "      <td>0</td>\n",
              "      <td>0</td>\n",
              "      <td>0</td>\n",
              "      <td>0</td>\n",
              "      <td>...</td>\n",
              "      <td>0</td>\n",
              "      <td>0</td>\n",
              "      <td>0</td>\n",
              "      <td>0</td>\n",
              "      <td>1</td>\n",
              "      <td>0</td>\n",
              "      <td>0</td>\n",
              "      <td>0</td>\n",
              "      <td>0</td>\n",
              "      <td>1</td>\n",
              "    </tr>\n",
              "    <tr>\n",
              "      <th>41582</th>\n",
              "      <td>12418</td>\n",
              "      <td>34.0</td>\n",
              "      <td>401</td>\n",
              "      <td>17</td>\n",
              "      <td>393.15</td>\n",
              "      <td>82.15</td>\n",
              "      <td>0</td>\n",
              "      <td>0</td>\n",
              "      <td>15</td>\n",
              "      <td>5</td>\n",
              "      <td>...</td>\n",
              "      <td>0</td>\n",
              "      <td>0</td>\n",
              "      <td>0</td>\n",
              "      <td>0</td>\n",
              "      <td>0</td>\n",
              "      <td>0</td>\n",
              "      <td>0</td>\n",
              "      <td>0</td>\n",
              "      <td>0</td>\n",
              "      <td>0</td>\n",
              "    </tr>\n",
              "  </tbody>\n",
              "</table>\n",
              "<p>5 rows × 27 columns</p>\n",
              "</div>\n",
              "      <button class=\"colab-df-convert\" onclick=\"convertToInteractive('df-606f566d-8710-4aa6-9e88-6b793d137015')\"\n",
              "              title=\"Convert this dataframe to an interactive table.\"\n",
              "              style=\"display:none;\">\n",
              "        \n",
              "  <svg xmlns=\"http://www.w3.org/2000/svg\" height=\"24px\"viewBox=\"0 0 24 24\"\n",
              "       width=\"24px\">\n",
              "    <path d=\"M0 0h24v24H0V0z\" fill=\"none\"/>\n",
              "    <path d=\"M18.56 5.44l.94 2.06.94-2.06 2.06-.94-2.06-.94-.94-2.06-.94 2.06-2.06.94zm-11 1L8.5 8.5l.94-2.06 2.06-.94-2.06-.94L8.5 2.5l-.94 2.06-2.06.94zm10 10l.94 2.06.94-2.06 2.06-.94-2.06-.94-.94-2.06-.94 2.06-2.06.94z\"/><path d=\"M17.41 7.96l-1.37-1.37c-.4-.4-.92-.59-1.43-.59-.52 0-1.04.2-1.43.59L10.3 9.45l-7.72 7.72c-.78.78-.78 2.05 0 2.83L4 21.41c.39.39.9.59 1.41.59.51 0 1.02-.2 1.41-.59l7.78-7.78 2.81-2.81c.8-.78.8-2.07 0-2.86zM5.41 20L4 18.59l7.72-7.72 1.47 1.35L5.41 20z\"/>\n",
              "  </svg>\n",
              "      </button>\n",
              "      \n",
              "  <style>\n",
              "    .colab-df-container {\n",
              "      display:flex;\n",
              "      flex-wrap:wrap;\n",
              "      gap: 12px;\n",
              "    }\n",
              "\n",
              "    .colab-df-convert {\n",
              "      background-color: #E8F0FE;\n",
              "      border: none;\n",
              "      border-radius: 50%;\n",
              "      cursor: pointer;\n",
              "      display: none;\n",
              "      fill: #1967D2;\n",
              "      height: 32px;\n",
              "      padding: 0 0 0 0;\n",
              "      width: 32px;\n",
              "    }\n",
              "\n",
              "    .colab-df-convert:hover {\n",
              "      background-color: #E2EBFA;\n",
              "      box-shadow: 0px 1px 2px rgba(60, 64, 67, 0.3), 0px 1px 3px 1px rgba(60, 64, 67, 0.15);\n",
              "      fill: #174EA6;\n",
              "    }\n",
              "\n",
              "    [theme=dark] .colab-df-convert {\n",
              "      background-color: #3B4455;\n",
              "      fill: #D2E3FC;\n",
              "    }\n",
              "\n",
              "    [theme=dark] .colab-df-convert:hover {\n",
              "      background-color: #434B5C;\n",
              "      box-shadow: 0px 1px 3px 1px rgba(0, 0, 0, 0.15);\n",
              "      filter: drop-shadow(0px 1px 2px rgba(0, 0, 0, 0.3));\n",
              "      fill: #FFFFFF;\n",
              "    }\n",
              "  </style>\n",
              "\n",
              "      <script>\n",
              "        const buttonEl =\n",
              "          document.querySelector('#df-606f566d-8710-4aa6-9e88-6b793d137015 button.colab-df-convert');\n",
              "        buttonEl.style.display =\n",
              "          google.colab.kernel.accessAllowed ? 'block' : 'none';\n",
              "\n",
              "        async function convertToInteractive(key) {\n",
              "          const element = document.querySelector('#df-606f566d-8710-4aa6-9e88-6b793d137015');\n",
              "          const dataTable =\n",
              "            await google.colab.kernel.invokeFunction('convertToInteractive',\n",
              "                                                     [key], {});\n",
              "          if (!dataTable) return;\n",
              "\n",
              "          const docLinkHtml = 'Like what you see? Visit the ' +\n",
              "            '<a target=\"_blank\" href=https://colab.research.google.com/notebooks/data_table.ipynb>data table notebook</a>'\n",
              "            + ' to learn more about interactive tables.';\n",
              "          element.innerHTML = '';\n",
              "          dataTable['output_type'] = 'display_data';\n",
              "          await google.colab.output.renderOutput(dataTable, element);\n",
              "          const docLink = document.createElement('div');\n",
              "          docLink.innerHTML = docLinkHtml;\n",
              "          element.appendChild(docLink);\n",
              "        }\n",
              "      </script>\n",
              "    </div>\n",
              "  </div>\n",
              "  "
            ]
          },
          "metadata": {},
          "execution_count": 9
        }
      ]
    },
    {
      "cell_type": "code",
      "source": [
        "y_train.sample(5)"
      ],
      "metadata": {
        "colab": {
          "base_uri": "https://localhost:8080/"
        },
        "id": "OE1CLDYmhDbW",
        "outputId": "fd7eb05d-3ba0-4cf1-ca11-02c865c5be61"
      },
      "execution_count": null,
      "outputs": [
        {
          "output_type": "execute_result",
          "data": {
            "text/plain": [
              "48770    0\n",
              "56769    0\n",
              "63806    1\n",
              "67766    1\n",
              "81141    1\n",
              "Name: BookingsCheckedIn, dtype: int64"
            ]
          },
          "metadata": {},
          "execution_count": 10
        }
      ]
    },
    {
      "cell_type": "code",
      "source": [
        "X_train.nunique()"
      ],
      "metadata": {
        "colab": {
          "base_uri": "https://localhost:8080/"
        },
        "id": "GbuLjaVLi_jQ",
        "outputId": "4029bf89-f42f-4222-c4f0-b73f8aa7b022"
      },
      "execution_count": null,
      "outputs": [
        {
          "output_type": "execute_result",
          "data": {
            "text/plain": [
              "Nationality               87\n",
              "Age                       94\n",
              "DaysSinceCreation       1095\n",
              "AverageLeadTime          401\n",
              "LodgingRevenue          9434\n",
              "OtherRevenue            4133\n",
              "BookingsCanceled           6\n",
              "BookingsNoShowed           4\n",
              "PersonsNights             52\n",
              "RoomNights                44\n",
              "DaysSinceLastStay       1104\n",
              "DaysSinceFirstStay      1105\n",
              "DistributionChannel        4\n",
              "MarketSegment              7\n",
              "SRHighFloor                2\n",
              "SRLowFloor                 2\n",
              "SRAccessibleRoom           2\n",
              "SRMediumFloor              2\n",
              "SRBathtub                  2\n",
              "SRShower                   2\n",
              "SRCrib                     2\n",
              "SRKingSizeBed              2\n",
              "SRTwinBed                  2\n",
              "SRNearElevator             2\n",
              "SRAwayFromElevator         2\n",
              "SRNoAlcoholInMiniBar       2\n",
              "SRQuietRoom                2\n",
              "dtype: int64"
            ]
          },
          "metadata": {},
          "execution_count": 11
        }
      ]
    },
    {
      "cell_type": "code",
      "source": [
        "train['SRMediumFloor'].unique()"
      ],
      "metadata": {
        "colab": {
          "base_uri": "https://localhost:8080/"
        },
        "id": "jBSAykEhcldY",
        "outputId": "87e2a15b-b193-42a0-94af-1ac33ba47a85"
      },
      "execution_count": null,
      "outputs": [
        {
          "output_type": "execute_result",
          "data": {
            "text/plain": [
              "array([0, 1])"
            ]
          },
          "metadata": {},
          "execution_count": 12
        }
      ]
    },
    {
      "cell_type": "code",
      "source": [
        "# imputation transformer\n",
        "trf1 = ColumnTransformer([\n",
        "    ('impute_age',SimpleImputer(),[1])\n",
        "],remainder='passthrough')"
      ],
      "metadata": {
        "id": "Ejxj0Jg_hDgf"
      },
      "execution_count": null,
      "outputs": []
    },
    {
      "cell_type": "code",
      "source": [
        "# one hot encoding\n",
        "trf2 = ColumnTransformer([\n",
        "    ('ohe',OneHotEncoder(sparse=False,handle_unknown='ignore'),[12,13])\n",
        "],remainder='passthrough')"
      ],
      "metadata": {
        "id": "wkPjBnYXiy1C"
      },
      "execution_count": null,
      "outputs": []
    },
    {
      "cell_type": "code",
      "source": [
        "# Scaling\n",
        "trf3 = ColumnTransformer([\n",
        "    ('scale',MinMaxScaler(),slice(0,36))\n",
        "])"
      ],
      "metadata": {
        "id": "f9JUWQB2jRdB"
      },
      "execution_count": null,
      "outputs": []
    },
    {
      "cell_type": "code",
      "source": [
        "# train the model\n",
        "from sklearn.tree import DecisionTreeRegressor\n",
        "trf4 = DecisionTreeRegressor(random_state=0)"
      ],
      "metadata": {
        "id": "I9p3qQSFjRfo"
      },
      "execution_count": null,
      "outputs": []
    },
    {
      "cell_type": "code",
      "source": [],
      "metadata": {
        "id": "UEkQG5fCsp0q"
      },
      "execution_count": null,
      "outputs": []
    },
    {
      "cell_type": "code",
      "source": [
        "# create pipeline use this\n",
        "pipe = Pipeline([\n",
        "    ('trf1',trf1),\n",
        "    ('trf2',trf2),\n",
        "    ('trf3',trf3),\n",
        "    ('trf4',trf4)\n",
        "])"
      ],
      "metadata": {
        "id": "H72qZl4vjRkS"
      },
      "execution_count": null,
      "outputs": []
    },
    {
      "cell_type": "code",
      "source": [
        "# Alternate Syntax \n",
        "pipe = make_pipeline(trf1,trf2,trf3,trf4)"
      ],
      "metadata": {
        "id": "YJWc4R5RkfeB"
      },
      "execution_count": null,
      "outputs": []
    },
    {
      "cell_type": "code",
      "source": [
        "from sklearn import set_config\n",
        "set_config(display='diagram')"
      ],
      "metadata": {
        "id": "hVY55fw1kflM"
      },
      "execution_count": null,
      "outputs": []
    },
    {
      "cell_type": "code",
      "source": [
        "pipe.fit(X_train,y_train)"
      ],
      "metadata": {
        "colab": {
          "base_uri": "https://localhost:8080/",
          "height": 394
        },
        "id": "Uur4B0bckfgQ",
        "outputId": "9eea0bad-4590-409e-b314-5022284f4bfe"
      },
      "execution_count": null,
      "outputs": [
        {
          "output_type": "execute_result",
          "data": {
            "text/plain": [
              "Pipeline(steps=[('columntransformer-1',\n",
              "                 ColumnTransformer(remainder='passthrough',\n",
              "                                   transformers=[('impute_age', SimpleImputer(),\n",
              "                                                  [1])])),\n",
              "                ('columntransformer-2',\n",
              "                 ColumnTransformer(remainder='passthrough',\n",
              "                                   transformers=[('ohe',\n",
              "                                                  OneHotEncoder(handle_unknown='ignore',\n",
              "                                                                sparse=False),\n",
              "                                                  [12, 13])])),\n",
              "                ('columntransformer-3',\n",
              "                 ColumnTransformer(transformers=[('scale', MinMaxScaler(),\n",
              "                                                  slice(0, 36, None))])),\n",
              "                ('decisiontreeregressor',\n",
              "                 DecisionTreeRegressor(random_state=0))])"
            ],
            "text/html": [
              "<style>#sk-2cc825d1-8d72-473b-92b2-d07991baf6e9 {color: black;background-color: white;}#sk-2cc825d1-8d72-473b-92b2-d07991baf6e9 pre{padding: 0;}#sk-2cc825d1-8d72-473b-92b2-d07991baf6e9 div.sk-toggleable {background-color: white;}#sk-2cc825d1-8d72-473b-92b2-d07991baf6e9 label.sk-toggleable__label {cursor: pointer;display: block;width: 100%;margin-bottom: 0;padding: 0.3em;box-sizing: border-box;text-align: center;}#sk-2cc825d1-8d72-473b-92b2-d07991baf6e9 label.sk-toggleable__label-arrow:before {content: \"▸\";float: left;margin-right: 0.25em;color: #696969;}#sk-2cc825d1-8d72-473b-92b2-d07991baf6e9 label.sk-toggleable__label-arrow:hover:before {color: black;}#sk-2cc825d1-8d72-473b-92b2-d07991baf6e9 div.sk-estimator:hover label.sk-toggleable__label-arrow:before {color: black;}#sk-2cc825d1-8d72-473b-92b2-d07991baf6e9 div.sk-toggleable__content {max-height: 0;max-width: 0;overflow: hidden;text-align: left;background-color: #f0f8ff;}#sk-2cc825d1-8d72-473b-92b2-d07991baf6e9 div.sk-toggleable__content pre {margin: 0.2em;color: black;border-radius: 0.25em;background-color: #f0f8ff;}#sk-2cc825d1-8d72-473b-92b2-d07991baf6e9 input.sk-toggleable__control:checked~div.sk-toggleable__content {max-height: 200px;max-width: 100%;overflow: auto;}#sk-2cc825d1-8d72-473b-92b2-d07991baf6e9 input.sk-toggleable__control:checked~label.sk-toggleable__label-arrow:before {content: \"▾\";}#sk-2cc825d1-8d72-473b-92b2-d07991baf6e9 div.sk-estimator input.sk-toggleable__control:checked~label.sk-toggleable__label {background-color: #d4ebff;}#sk-2cc825d1-8d72-473b-92b2-d07991baf6e9 div.sk-label input.sk-toggleable__control:checked~label.sk-toggleable__label {background-color: #d4ebff;}#sk-2cc825d1-8d72-473b-92b2-d07991baf6e9 input.sk-hidden--visually {border: 0;clip: rect(1px 1px 1px 1px);clip: rect(1px, 1px, 1px, 1px);height: 1px;margin: -1px;overflow: hidden;padding: 0;position: absolute;width: 1px;}#sk-2cc825d1-8d72-473b-92b2-d07991baf6e9 div.sk-estimator {font-family: monospace;background-color: #f0f8ff;border: 1px dotted black;border-radius: 0.25em;box-sizing: border-box;margin-bottom: 0.5em;}#sk-2cc825d1-8d72-473b-92b2-d07991baf6e9 div.sk-estimator:hover {background-color: #d4ebff;}#sk-2cc825d1-8d72-473b-92b2-d07991baf6e9 div.sk-parallel-item::after {content: \"\";width: 100%;border-bottom: 1px solid gray;flex-grow: 1;}#sk-2cc825d1-8d72-473b-92b2-d07991baf6e9 div.sk-label:hover label.sk-toggleable__label {background-color: #d4ebff;}#sk-2cc825d1-8d72-473b-92b2-d07991baf6e9 div.sk-serial::before {content: \"\";position: absolute;border-left: 1px solid gray;box-sizing: border-box;top: 2em;bottom: 0;left: 50%;}#sk-2cc825d1-8d72-473b-92b2-d07991baf6e9 div.sk-serial {display: flex;flex-direction: column;align-items: center;background-color: white;padding-right: 0.2em;padding-left: 0.2em;}#sk-2cc825d1-8d72-473b-92b2-d07991baf6e9 div.sk-item {z-index: 1;}#sk-2cc825d1-8d72-473b-92b2-d07991baf6e9 div.sk-parallel {display: flex;align-items: stretch;justify-content: center;background-color: white;}#sk-2cc825d1-8d72-473b-92b2-d07991baf6e9 div.sk-parallel::before {content: \"\";position: absolute;border-left: 1px solid gray;box-sizing: border-box;top: 2em;bottom: 0;left: 50%;}#sk-2cc825d1-8d72-473b-92b2-d07991baf6e9 div.sk-parallel-item {display: flex;flex-direction: column;position: relative;background-color: white;}#sk-2cc825d1-8d72-473b-92b2-d07991baf6e9 div.sk-parallel-item:first-child::after {align-self: flex-end;width: 50%;}#sk-2cc825d1-8d72-473b-92b2-d07991baf6e9 div.sk-parallel-item:last-child::after {align-self: flex-start;width: 50%;}#sk-2cc825d1-8d72-473b-92b2-d07991baf6e9 div.sk-parallel-item:only-child::after {width: 0;}#sk-2cc825d1-8d72-473b-92b2-d07991baf6e9 div.sk-dashed-wrapped {border: 1px dashed gray;margin: 0 0.4em 0.5em 0.4em;box-sizing: border-box;padding-bottom: 0.4em;background-color: white;position: relative;}#sk-2cc825d1-8d72-473b-92b2-d07991baf6e9 div.sk-label label {font-family: monospace;font-weight: bold;background-color: white;display: inline-block;line-height: 1.2em;}#sk-2cc825d1-8d72-473b-92b2-d07991baf6e9 div.sk-label-container {position: relative;z-index: 2;text-align: center;}#sk-2cc825d1-8d72-473b-92b2-d07991baf6e9 div.sk-container {/* jupyter's `normalize.less` sets `[hidden] { display: none; }` but bootstrap.min.css set `[hidden] { display: none !important; }` so we also need the `!important` here to be able to override the default hidden behavior on the sphinx rendered scikit-learn.org. See: https://github.com/scikit-learn/scikit-learn/issues/21755 */display: inline-block !important;position: relative;}#sk-2cc825d1-8d72-473b-92b2-d07991baf6e9 div.sk-text-repr-fallback {display: none;}</style><div id=\"sk-2cc825d1-8d72-473b-92b2-d07991baf6e9\" class=\"sk-top-container\"><div class=\"sk-text-repr-fallback\"><pre>Pipeline(steps=[(&#x27;columntransformer-1&#x27;,\n",
              "                 ColumnTransformer(remainder=&#x27;passthrough&#x27;,\n",
              "                                   transformers=[(&#x27;impute_age&#x27;, SimpleImputer(),\n",
              "                                                  [1])])),\n",
              "                (&#x27;columntransformer-2&#x27;,\n",
              "                 ColumnTransformer(remainder=&#x27;passthrough&#x27;,\n",
              "                                   transformers=[(&#x27;ohe&#x27;,\n",
              "                                                  OneHotEncoder(handle_unknown=&#x27;ignore&#x27;,\n",
              "                                                                sparse=False),\n",
              "                                                  [12, 13])])),\n",
              "                (&#x27;columntransformer-3&#x27;,\n",
              "                 ColumnTransformer(transformers=[(&#x27;scale&#x27;, MinMaxScaler(),\n",
              "                                                  slice(0, 36, None))])),\n",
              "                (&#x27;decisiontreeregressor&#x27;,\n",
              "                 DecisionTreeRegressor(random_state=0))])</pre><b>Please rerun this cell to show the HTML repr or trust the notebook.</b></div><div class=\"sk-container\" hidden><div class=\"sk-item sk-dashed-wrapped\"><div class=\"sk-label-container\"><div class=\"sk-label sk-toggleable\"><input class=\"sk-toggleable__control sk-hidden--visually\" id=\"4b928c8a-9533-49ea-abf1-231651862af1\" type=\"checkbox\" ><label for=\"4b928c8a-9533-49ea-abf1-231651862af1\" class=\"sk-toggleable__label sk-toggleable__label-arrow\">Pipeline</label><div class=\"sk-toggleable__content\"><pre>Pipeline(steps=[(&#x27;columntransformer-1&#x27;,\n",
              "                 ColumnTransformer(remainder=&#x27;passthrough&#x27;,\n",
              "                                   transformers=[(&#x27;impute_age&#x27;, SimpleImputer(),\n",
              "                                                  [1])])),\n",
              "                (&#x27;columntransformer-2&#x27;,\n",
              "                 ColumnTransformer(remainder=&#x27;passthrough&#x27;,\n",
              "                                   transformers=[(&#x27;ohe&#x27;,\n",
              "                                                  OneHotEncoder(handle_unknown=&#x27;ignore&#x27;,\n",
              "                                                                sparse=False),\n",
              "                                                  [12, 13])])),\n",
              "                (&#x27;columntransformer-3&#x27;,\n",
              "                 ColumnTransformer(transformers=[(&#x27;scale&#x27;, MinMaxScaler(),\n",
              "                                                  slice(0, 36, None))])),\n",
              "                (&#x27;decisiontreeregressor&#x27;,\n",
              "                 DecisionTreeRegressor(random_state=0))])</pre></div></div></div><div class=\"sk-serial\"><div class=\"sk-item sk-dashed-wrapped\"><div class=\"sk-label-container\"><div class=\"sk-label sk-toggleable\"><input class=\"sk-toggleable__control sk-hidden--visually\" id=\"5f11431e-1270-4ea9-88c9-ef3630908532\" type=\"checkbox\" ><label for=\"5f11431e-1270-4ea9-88c9-ef3630908532\" class=\"sk-toggleable__label sk-toggleable__label-arrow\">columntransformer-1: ColumnTransformer</label><div class=\"sk-toggleable__content\"><pre>ColumnTransformer(remainder=&#x27;passthrough&#x27;,\n",
              "                  transformers=[(&#x27;impute_age&#x27;, SimpleImputer(), [1])])</pre></div></div></div><div class=\"sk-parallel\"><div class=\"sk-parallel-item\"><div class=\"sk-item\"><div class=\"sk-label-container\"><div class=\"sk-label sk-toggleable\"><input class=\"sk-toggleable__control sk-hidden--visually\" id=\"07bdd7c1-3625-4eff-b4a3-6a7008cd5224\" type=\"checkbox\" ><label for=\"07bdd7c1-3625-4eff-b4a3-6a7008cd5224\" class=\"sk-toggleable__label sk-toggleable__label-arrow\">impute_age</label><div class=\"sk-toggleable__content\"><pre>[1]</pre></div></div></div><div class=\"sk-serial\"><div class=\"sk-item\"><div class=\"sk-estimator sk-toggleable\"><input class=\"sk-toggleable__control sk-hidden--visually\" id=\"b69c574d-4535-44c2-8458-9796ad157a0c\" type=\"checkbox\" ><label for=\"b69c574d-4535-44c2-8458-9796ad157a0c\" class=\"sk-toggleable__label sk-toggleable__label-arrow\">SimpleImputer</label><div class=\"sk-toggleable__content\"><pre>SimpleImputer()</pre></div></div></div></div></div></div><div class=\"sk-parallel-item\"><div class=\"sk-item\"><div class=\"sk-label-container\"><div class=\"sk-label sk-toggleable\"><input class=\"sk-toggleable__control sk-hidden--visually\" id=\"fafe8eff-01ef-4996-abc3-4d7a3e13c9c9\" type=\"checkbox\" ><label for=\"fafe8eff-01ef-4996-abc3-4d7a3e13c9c9\" class=\"sk-toggleable__label sk-toggleable__label-arrow\">remainder</label><div class=\"sk-toggleable__content\"><pre>[&#x27;Nationality&#x27;, &#x27;DaysSinceCreation&#x27;, &#x27;AverageLeadTime&#x27;, &#x27;LodgingRevenue&#x27;, &#x27;OtherRevenue&#x27;, &#x27;BookingsCanceled&#x27;, &#x27;BookingsNoShowed&#x27;, &#x27;PersonsNights&#x27;, &#x27;RoomNights&#x27;, &#x27;DaysSinceLastStay&#x27;, &#x27;DaysSinceFirstStay&#x27;, &#x27;DistributionChannel&#x27;, &#x27;MarketSegment&#x27;, &#x27;SRHighFloor&#x27;, &#x27;SRLowFloor&#x27;, &#x27;SRAccessibleRoom&#x27;, &#x27;SRMediumFloor&#x27;, &#x27;SRBathtub&#x27;, &#x27;SRShower&#x27;, &#x27;SRCrib&#x27;, &#x27;SRKingSizeBed&#x27;, &#x27;SRTwinBed&#x27;, &#x27;SRNearElevator&#x27;, &#x27;SRAwayFromElevator&#x27;, &#x27;SRNoAlcoholInMiniBar&#x27;, &#x27;SRQuietRoom&#x27;]</pre></div></div></div><div class=\"sk-serial\"><div class=\"sk-item\"><div class=\"sk-estimator sk-toggleable\"><input class=\"sk-toggleable__control sk-hidden--visually\" id=\"5fcd9951-1fef-4763-ab33-ff50575d4117\" type=\"checkbox\" ><label for=\"5fcd9951-1fef-4763-ab33-ff50575d4117\" class=\"sk-toggleable__label sk-toggleable__label-arrow\">passthrough</label><div class=\"sk-toggleable__content\"><pre>passthrough</pre></div></div></div></div></div></div></div></div><div class=\"sk-item sk-dashed-wrapped\"><div class=\"sk-label-container\"><div class=\"sk-label sk-toggleable\"><input class=\"sk-toggleable__control sk-hidden--visually\" id=\"f6f08179-77b8-406e-83cd-845cdc9b9ddd\" type=\"checkbox\" ><label for=\"f6f08179-77b8-406e-83cd-845cdc9b9ddd\" class=\"sk-toggleable__label sk-toggleable__label-arrow\">columntransformer-2: ColumnTransformer</label><div class=\"sk-toggleable__content\"><pre>ColumnTransformer(remainder=&#x27;passthrough&#x27;,\n",
              "                  transformers=[(&#x27;ohe&#x27;,\n",
              "                                 OneHotEncoder(handle_unknown=&#x27;ignore&#x27;,\n",
              "                                               sparse=False),\n",
              "                                 [12, 13])])</pre></div></div></div><div class=\"sk-parallel\"><div class=\"sk-parallel-item\"><div class=\"sk-item\"><div class=\"sk-label-container\"><div class=\"sk-label sk-toggleable\"><input class=\"sk-toggleable__control sk-hidden--visually\" id=\"139aaa0b-1fc0-4ca9-8609-6535431fa011\" type=\"checkbox\" ><label for=\"139aaa0b-1fc0-4ca9-8609-6535431fa011\" class=\"sk-toggleable__label sk-toggleable__label-arrow\">ohe</label><div class=\"sk-toggleable__content\"><pre>[12, 13]</pre></div></div></div><div class=\"sk-serial\"><div class=\"sk-item\"><div class=\"sk-estimator sk-toggleable\"><input class=\"sk-toggleable__control sk-hidden--visually\" id=\"28059b85-6c6b-4d4c-8529-b066dc48bcbc\" type=\"checkbox\" ><label for=\"28059b85-6c6b-4d4c-8529-b066dc48bcbc\" class=\"sk-toggleable__label sk-toggleable__label-arrow\">OneHotEncoder</label><div class=\"sk-toggleable__content\"><pre>OneHotEncoder(handle_unknown=&#x27;ignore&#x27;, sparse=False)</pre></div></div></div></div></div></div><div class=\"sk-parallel-item\"><div class=\"sk-item\"><div class=\"sk-label-container\"><div class=\"sk-label sk-toggleable\"><input class=\"sk-toggleable__control sk-hidden--visually\" id=\"5a9154eb-52af-4988-80ea-188d51440488\" type=\"checkbox\" ><label for=\"5a9154eb-52af-4988-80ea-188d51440488\" class=\"sk-toggleable__label sk-toggleable__label-arrow\">remainder</label><div class=\"sk-toggleable__content\"><pre>[0, 1, 2, 3, 4, 5, 6, 7, 8, 9, 10, 11, 14, 15, 16, 17, 18, 19, 20, 21, 22, 23, 24, 25, 26]</pre></div></div></div><div class=\"sk-serial\"><div class=\"sk-item\"><div class=\"sk-estimator sk-toggleable\"><input class=\"sk-toggleable__control sk-hidden--visually\" id=\"bfa591bd-2e5d-4e70-ab0b-9bbff41b2144\" type=\"checkbox\" ><label for=\"bfa591bd-2e5d-4e70-ab0b-9bbff41b2144\" class=\"sk-toggleable__label sk-toggleable__label-arrow\">passthrough</label><div class=\"sk-toggleable__content\"><pre>passthrough</pre></div></div></div></div></div></div></div></div><div class=\"sk-item sk-dashed-wrapped\"><div class=\"sk-label-container\"><div class=\"sk-label sk-toggleable\"><input class=\"sk-toggleable__control sk-hidden--visually\" id=\"96bd7772-2032-46da-8ed1-cc798afdfba1\" type=\"checkbox\" ><label for=\"96bd7772-2032-46da-8ed1-cc798afdfba1\" class=\"sk-toggleable__label sk-toggleable__label-arrow\">columntransformer-3: ColumnTransformer</label><div class=\"sk-toggleable__content\"><pre>ColumnTransformer(transformers=[(&#x27;scale&#x27;, MinMaxScaler(), slice(0, 36, None))])</pre></div></div></div><div class=\"sk-parallel\"><div class=\"sk-parallel-item\"><div class=\"sk-item\"><div class=\"sk-label-container\"><div class=\"sk-label sk-toggleable\"><input class=\"sk-toggleable__control sk-hidden--visually\" id=\"87017d39-2c4a-4c25-bd2c-d6b846bfeeb6\" type=\"checkbox\" ><label for=\"87017d39-2c4a-4c25-bd2c-d6b846bfeeb6\" class=\"sk-toggleable__label sk-toggleable__label-arrow\">scale</label><div class=\"sk-toggleable__content\"><pre>slice(0, 36, None)</pre></div></div></div><div class=\"sk-serial\"><div class=\"sk-item\"><div class=\"sk-estimator sk-toggleable\"><input class=\"sk-toggleable__control sk-hidden--visually\" id=\"5452b9db-c338-4379-b78f-700cf7b6dce1\" type=\"checkbox\" ><label for=\"5452b9db-c338-4379-b78f-700cf7b6dce1\" class=\"sk-toggleable__label sk-toggleable__label-arrow\">MinMaxScaler</label><div class=\"sk-toggleable__content\"><pre>MinMaxScaler()</pre></div></div></div></div></div></div></div></div><div class=\"sk-item\"><div class=\"sk-estimator sk-toggleable\"><input class=\"sk-toggleable__control sk-hidden--visually\" id=\"75154413-dabd-4b24-8019-7382c5e9886e\" type=\"checkbox\" ><label for=\"75154413-dabd-4b24-8019-7382c5e9886e\" class=\"sk-toggleable__label sk-toggleable__label-arrow\">DecisionTreeRegressor</label><div class=\"sk-toggleable__content\"><pre>DecisionTreeRegressor(random_state=0)</pre></div></div></div></div></div></div></div>"
            ]
          },
          "metadata": {},
          "execution_count": 20
        }
      ]
    },
    {
      "cell_type": "code",
      "source": [
        "# Explore the Pipeline\n",
        "pipe.named_steps"
      ],
      "metadata": {
        "colab": {
          "base_uri": "https://localhost:8080/"
        },
        "id": "H48Z3rdrkfix",
        "outputId": "c32aeaea-01a7-4b77-88b3-1cc102b1c625"
      },
      "execution_count": null,
      "outputs": [
        {
          "output_type": "execute_result",
          "data": {
            "text/plain": [
              "{'columntransformer-1': ColumnTransformer(remainder='passthrough',\n",
              "                   transformers=[('impute_age', SimpleImputer(), [1])]),\n",
              " 'columntransformer-2': ColumnTransformer(remainder='passthrough',\n",
              "                   transformers=[('ohe',\n",
              "                                  OneHotEncoder(handle_unknown='ignore',\n",
              "                                                sparse=False),\n",
              "                                  [12, 13])]),\n",
              " 'columntransformer-3': ColumnTransformer(transformers=[('scale', MinMaxScaler(), slice(0, 36, None))]),\n",
              " 'decisiontreeregressor': DecisionTreeRegressor(random_state=0)}"
            ]
          },
          "metadata": {},
          "execution_count": 21
        }
      ]
    },
    {
      "cell_type": "code",
      "source": [
        "y_pred = pipe.predict(X_test)"
      ],
      "metadata": {
        "id": "gkp739nykfnn"
      },
      "execution_count": null,
      "outputs": []
    },
    {
      "cell_type": "code",
      "source": [
        "from sklearn.metrics import accuracy_score\n",
        "accuracy_score(y_test,y_pred)"
      ],
      "metadata": {
        "colab": {
          "base_uri": "https://localhost:8080/"
        },
        "id": "Dbn8EB0ukfqb",
        "outputId": "80e2c513-372b-4d72-cac4-6b1d6f477727"
      },
      "execution_count": null,
      "outputs": [
        {
          "output_type": "execute_result",
          "data": {
            "text/plain": [
              "0.9778588501698326"
            ]
          },
          "metadata": {},
          "execution_count": 23
        }
      ]
    },
    {
      "cell_type": "code",
      "source": [
        "# Cross Validation using Pipeline\n",
        "# cross validation using cross_val_score\n",
        "from sklearn.model_selection import cross_val_score\n",
        "cross_val_score(pipe, X_train, y_train, cv=5, scoring='accuracy').mean()"
      ],
      "metadata": {
        "colab": {
          "base_uri": "https://localhost:8080/"
        },
        "id": "3y8SlZ_ionpJ",
        "outputId": "c447eb32-52b1-4b2e-c7e9-b6b4b0fa8e3a"
      },
      "execution_count": null,
      "outputs": [
        {
          "output_type": "execute_result",
          "data": {
            "text/plain": [
              "0.9782070771302227"
            ]
          },
          "metadata": {},
          "execution_count": 24
        }
      ]
    },
    {
      "cell_type": "code",
      "source": [
        "# export \n",
        "import pickle\n",
        "pickle.dump(pipe,open('pipe.pkl','wb'))"
      ],
      "metadata": {
        "id": "akZru6K1onuT"
      },
      "execution_count": null,
      "outputs": []
    }
  ]
}